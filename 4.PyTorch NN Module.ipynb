{
 "cells": [
  {
   "cell_type": "markdown",
   "id": "726e5fcd-a1a1-4849-9bb0-3ef1153b7830",
   "metadata": {},
   "source": [
    "<h1 style=\"color:#ff5733; text-align:center; font-size:45px;\">🚀 Hello! I'm <b style=\"color:#33A1FF;\">Yahya Ahmad</b> 👋</h1>\n",
    "\n",
    "<p style=\"font-size:22px; text-align:center; color:#444;\">\n",
    "I'm a beginner passionate about <b style=\"color:#FF914D;\">technology</b>, <b style=\"color:#FF914D;\">machine learning</b>, and <b style=\"color:#FF914D;\">Python programming</b>. \n",
    "I'm excited to learn and grow in the world of <b style=\"color:#33A1FF;\">data science</b> and <b style=\"color:#33A1FF;\">AI</b>. 🚀\n",
    "</p>\n",
    "\n",
    "<hr style=\"border:2px solid #ff5733; width:80%;\">\n",
    "\n",
    "<h2 style=\"color:#33A1FF; font-size:30px;\">🎯 My Interests:</h2>\n",
    "\n",
    "<ul style=\"font-size:22px; color:#444;\">\n",
    "    <li><b style=\"color:#FF914D;\">Programming</b>: Python </li>\n",
    "    <li><b style=\"color:#FF914D;\">Machine Learning</b>: Exploring PyTorch and TensorFlow</li>\n",
    "    <li><b style=\"color:#FF914D;\">Deep Learning AI</b>: Neural Networks & Computer Vision</li>\n",
    "</ul>\n",
    "\n",
    "<hr style=\"border:2px solid #ff5733; width:80%;\">\n",
    "\n",
    "<h2 style=\"color:#33A1FF; font-size:30px;\">📬 Let's Connect!</h2>\n",
    "\n",
    "<ul style=\"font-size:22px; color:#444;\">\n",
    "    <li>📧 <b>Email</b>: <a href=\"mailto:Ya0280780@gmail.com\" style=\"color:#FF914D;\">Ya0280780@gmail.com</a></li>\n",
    "    <li>🔗 <b>LinkedIn</b>: <a href=\"https://www.linkedin.com/in/yahya-ahmad-8538312b1/\" style=\"color:#FF914D;\">Yahya Ahmad on LinkedIn</a></li>\n",
    "    <li>💻 <b>GitHub</b>: <a href=\"https://github.com/Yahyaahmad09/Courses\" style=\"color:#FF914D;\">My GitHub Repository</a></li>\n",
    "</ul>\n",
    "\n",
    "<hr style=\"border:2px solid #ff5733; width:80%;\">\n"
   ]
  },
  {
   "cell_type": "markdown",
   "id": "2ae09f4a-2df9-483f-a8e0-856fc477e525",
   "metadata": {},
   "source": [
    "<h1 style=\"color:#ff5733; text-align:center; font-size:35px;\">🔥 Understanding PyTorch <b style=\"color:#33A1FF;\">NN Module</b> 🚀</h1>\n",
    "\n",
    "<hr style=\"border:2px solid #ff5733; width:80%;\">\n",
    "\n",
    "<p style=\"font-size:18px; text-align:center; color:#444;\">\n",
    "    The <b style=\"color:#FF914D;\">torch.nn</b> module in PyTorch provides an easy way to build, train, and deploy <b style=\"color:#33A1FF;\">deep learning models</b>. \n",
    "    It simplifies the process of defining layers, activation functions, and backpropagation. Let's explore its powerful features! ⚡\n",
    "</p>\n",
    "\n",
    "<hr style=\"border:2px solid #ff5733; width:80%;\">\n",
    "\n",
    "<h2 style=\"color:#33A1FF; font-size:22px;\">🔹 1. What is the PyTorch NN Module?</h2>\n",
    "<p style=\"font-size:22px; color:#444;\">The <b style=\"color:#FF914D;\">torch.nn</b> module provides pre-built layers and loss functions, making it easy to define **Neural Networks**.</p>\n",
    "\n",
    "<h2 style=\"color:#33A1FF; font-size:22px;\">🔹 2. Key Components of torch.nn</h2>\n",
    "<ul style=\"font-size:18px; color:#444;\">\n",
    "    <li><b style=\"color:#FF914D;\">Neural Network Layers</b>: Linear, Convolutional, Recurrent, etc.</li>\n",
    "    <li><b style=\"color:#FF914D;\">Activation Functions</b>: ReLU, Sigmoid, Softmax, etc.</li>\n",
    "    <li><b style=\"color:#FF914D;\">Loss Functions</b>: MSE Loss, Cross-Entropy Loss, etc.</li>\n",
    "    <li><b style=\"color:#FF914D;\">Optimizers</b>: Adam, SGD, RMSprop, etc.</li>\n",
    "</ul>\n",
    "\n",
    "<h2 style=\"color:#33A1FF; font-size:22px;\">🔹 3. Building a Model with torch.nn</h2>\n",
    "<p style=\"font-size:18px; color:#444;\">\n",
    "    PyTorch allows defining models using **nn.Module**, making it easier to create custom architectures with forward propagation. 🔥\n",
    "</p>\n",
    "\n",
    "<h2 style=\"color:#33A1FF; font-size:22px;\">🔹 4. Training a Neural Network</h2>\n",
    "<p style=\"font-size:18px; color:#444;\">The training process includes:</p>\n",
    "<ul style=\"font-size:22px; color:#444;\">\n",
    "    <li>Forward Pass 🚀</li>\n",
    "    <li>Loss Calculation 📉</li>\n",
    "    <li>Backward Propagation 🔄</li>\n",
    "    <li>Weight Updates ✨</li>\n",
    "</ul>\n",
    "\n",
    "<h2 style=\"color:#33A1FF; font-size:22px;\">🔹 5. Model Evaluation</h2>\n",
    "<p style=\"font-size:18px; color:#444;\">\n",
    "    Evaluate the model using accuracy, loss, and visualization techniques to check its performance. 📊\n",
    "</p>\n",
    "\n",
    "<hr style=\"border:2px solid #ff5733; width:80%;\">\n",
    "\n",
    "<h2 style=\"color:#33A1FF; font-size:25px;\">💡 Ready to Dive into PyTorch NN Module?</h2>\n",
    "<p style=\"font-size:18px; color:#444; text-align:center;\">\n",
    "    Let's build and train amazing deep learning models using <b style=\"color:#FF914D;\">PyTorch NN Module</b>! 🚀🔥\n",
    "</p>\n",
    "\n",
    "<hr style=\"border:2px solid #ff5733; width:80%;\">\n"
   ]
  },
  {
   "cell_type": "markdown",
   "id": "445727f6-dfbf-4b40-a3c5-d4666720e36e",
   "metadata": {},
   "source": [
    "<h1 style=\"color:#ff5733; text-align:center; font-size:35px;\">🔥 Single Layer Neural Network 🚀</h1>\n"
   ]
  },
  {
   "cell_type": "markdown",
   "id": "5d63a185-285f-41eb-a563-2e70932f0347",
   "metadata": {},
   "source": [
    "<h2 style=\"color:#3498db; font-size:30px;\">🔑 Code to Import PyTorch and Other Libraries</h2>\n"
   ]
  },
  {
   "cell_type": "code",
   "execution_count": 2,
   "id": "aff6865c-d518-4447-aa16-8dc4b015c4b9",
   "metadata": {},
   "outputs": [],
   "source": [
    "import torch\n",
    "import torch.nn as nn\n",
    "import pandas as pd\n",
    "import numpy as np \n",
    "from sklearn.model_selection import train_test_split\n",
    "from sklearn.preprocessing import StandardScaler\n",
    "from sklearn.preprocessing import LabelEncoder"
   ]
  },
  {
   "cell_type": "code",
   "execution_count": 4,
   "id": "d692adf3-43f4-452a-80ad-9bbf3077a1d9",
   "metadata": {},
   "outputs": [],
   "source": [
    "class Model(nn.Module):\n",
    "    def __init__(self, num_features):\n",
    "        super().__init__()\n",
    "        self.linear = nn.Linear(num_features, 1)  # create a fully connected layer \n",
    "        self.sigmoid = nn.Sigmoid()  # Converts raw output into values between 0 and 1.\n",
    "\n",
    "    def forward(self, features):\n",
    "        z = self.linear(features)  \n",
    "        y_pred = self.sigmoid(z)  \n",
    "        return y_pred"
   ]
  },
  {
   "cell_type": "code",
   "execution_count": 5,
   "id": "afc8b111-13a2-4e93-aff9-d5850c38aec5",
   "metadata": {},
   "outputs": [],
   "source": [
    "# create dataset\n",
    "features = torch.rand(10,5)"
   ]
  },
  {
   "cell_type": "code",
   "execution_count": 6,
   "id": "537e0f10-c936-4ec4-b3d5-8cd6d0eae28e",
   "metadata": {},
   "outputs": [],
   "source": [
    "# create object of model \n",
    "model = Model(features.shape[1])"
   ]
  },
  {
   "cell_type": "code",
   "execution_count": 7,
   "id": "257d1e46-f134-4a22-b686-f6a63202dac5",
   "metadata": {},
   "outputs": [
    {
     "data": {
      "text/plain": [
       "tensor([[0.6232],\n",
       "        [0.6186],\n",
       "        [0.6166],\n",
       "        [0.6234],\n",
       "        [0.6206],\n",
       "        [0.6145],\n",
       "        [0.6280],\n",
       "        [0.6252],\n",
       "        [0.6276],\n",
       "        [0.6179]], grad_fn=<SigmoidBackward0>)"
      ]
     },
     "execution_count": 7,
     "metadata": {},
     "output_type": "execute_result"
    }
   ],
   "source": [
    "# call model for forward pass\n",
    "model(features)"
   ]
  },
  {
   "cell_type": "code",
   "execution_count": 8,
   "id": "9fbfdef0-fc43-4f2e-8949-f61844aeac57",
   "metadata": {},
   "outputs": [
    {
     "data": {
      "text/plain": [
       "Parameter containing:\n",
       "tensor([[0.0898, 0.0501, 0.0705, 0.0944, 0.0248]], requires_grad=True)"
      ]
     },
     "execution_count": 8,
     "metadata": {},
     "output_type": "execute_result"
    }
   ],
   "source": [
    "# show the weights or bias of the layer (linear)\n",
    "model.linear.weight"
   ]
  },
  {
   "cell_type": "code",
   "execution_count": 9,
   "id": "1442622a-6bad-48d6-8fef-afb751a97a18",
   "metadata": {},
   "outputs": [],
   "source": [
    "from torchinfo import summary"
   ]
  },
  {
   "cell_type": "code",
   "execution_count": 10,
   "id": "53416392-d4e6-4afc-8b9d-5f93f5471720",
   "metadata": {},
   "outputs": [
    {
     "data": {
      "text/plain": [
       "==========================================================================================\n",
       "Layer (type:depth-idx)                   Output Shape              Param #\n",
       "==========================================================================================\n",
       "Model                                    [10, 1]                   --\n",
       "├─Linear: 1-1                            [10, 1]                   6\n",
       "├─Sigmoid: 1-2                           [10, 1]                   --\n",
       "==========================================================================================\n",
       "Total params: 6\n",
       "Trainable params: 6\n",
       "Non-trainable params: 0\n",
       "Total mult-adds (M): 0.00\n",
       "==========================================================================================\n",
       "Input size (MB): 0.00\n",
       "Forward/backward pass size (MB): 0.00\n",
       "Params size (MB): 0.00\n",
       "Estimated Total Size (MB): 0.00\n",
       "=========================================================================================="
      ]
     },
     "execution_count": 10,
     "metadata": {},
     "output_type": "execute_result"
    }
   ],
   "source": [
    "summary(model, input_size=(10,5))"
   ]
  },
  {
   "cell_type": "markdown",
   "id": "21af29d7-1bad-4e45-b221-78e7f27e9ebb",
   "metadata": {},
   "source": [
    "<h1 style=\"color:#ff5733; text-align:center; font-size:35px;\">🔥 Three layer Neural Network 🚀</h1>\n"
   ]
  },
  {
   "cell_type": "code",
   "execution_count": 11,
   "id": "a2545141-de59-4e71-8fc7-e1614486bc46",
   "metadata": {},
   "outputs": [],
   "source": [
    "class Model(nn.Module):\n",
    "    def __init__(self, num_features):\n",
    "    # use a manual methed \n",
    "        \"\"\"super().__init__()\n",
    "        self.linear1  = nn.Linear(num_features, 3)\n",
    "        self.relu = nn.ReLU()\n",
    "        self.linear2 = nn.Linear(num_features, 1)\n",
    "        self.sigmoid = nn.Sigmoid()\n",
    "        \n",
    "    def forward(self, features):\n",
    "        z = self.linear1(features)\n",
    "        y_pred = self.relu(z)\n",
    "        z = self.linear2(features)\n",
    "        y_pred = self.sigmoid(z)\n",
    "        return y_pred\"\"\"\n",
    "    # use a sequential module of NN\n",
    "        super().__init__()\n",
    "        self.network = nn.Sequential(\n",
    "            nn.Linear(num_features, 3),\n",
    "            nn.ReLU(),\n",
    "            nn.Linear(3, 1),\n",
    "            nn.Sigmoid()\n",
    "        )\n",
    "\n",
    "    def forward(self, features):\n",
    "        y_pred = self.network(features)\n",
    "        return y_pred"
   ]
  },
  {
   "cell_type": "code",
   "execution_count": 12,
   "id": "a6264bd4-e306-4a10-8348-21904a63799a",
   "metadata": {},
   "outputs": [],
   "source": [
    "# create a dataset\n",
    "features = torch.rand(10,5)"
   ]
  },
  {
   "cell_type": "code",
   "execution_count": 13,
   "id": "a14d144a-d8d3-46e4-939e-f7b38414f112",
   "metadata": {},
   "outputs": [],
   "source": [
    "# create object of model\n",
    "model = Model(features.shape[1])"
   ]
  },
  {
   "cell_type": "code",
   "execution_count": 14,
   "id": "7f764651-a986-43ef-86ef-fab37f327144",
   "metadata": {},
   "outputs": [
    {
     "data": {
      "text/plain": [
       "tensor([[0.5766],\n",
       "        [0.5337],\n",
       "        [0.5571],\n",
       "        [0.5159],\n",
       "        [0.5202],\n",
       "        [0.5107],\n",
       "        [0.5158],\n",
       "        [0.5433],\n",
       "        [0.5201],\n",
       "        [0.5459]], grad_fn=<SigmoidBackward0>)"
      ]
     },
     "execution_count": 14,
     "metadata": {},
     "output_type": "execute_result"
    }
   ],
   "source": [
    "# call the model for forward\n",
    "model(features)"
   ]
  },
  {
   "cell_type": "code",
   "execution_count": 15,
   "id": "231fbf09-f0d8-4a90-8947-92610da462c7",
   "metadata": {},
   "outputs": [],
   "source": [
    "# show the weights and bias \n"
   ]
  },
  {
   "cell_type": "code",
   "execution_count": 16,
   "id": "c0b7e731-2286-410d-a5c5-de5aa405affc",
   "metadata": {},
   "outputs": [
    {
     "data": {
      "text/plain": [
       "==========================================================================================\n",
       "Layer (type:depth-idx)                   Output Shape              Param #\n",
       "==========================================================================================\n",
       "Model                                    [10, 1]                   --\n",
       "├─Sequential: 1-1                        [10, 1]                   --\n",
       "│    └─Linear: 2-1                       [10, 3]                   18\n",
       "│    └─ReLU: 2-2                         [10, 3]                   --\n",
       "│    └─Linear: 2-3                       [10, 1]                   4\n",
       "│    └─Sigmoid: 2-4                      [10, 1]                   --\n",
       "==========================================================================================\n",
       "Total params: 22\n",
       "Trainable params: 22\n",
       "Non-trainable params: 0\n",
       "Total mult-adds (M): 0.00\n",
       "==========================================================================================\n",
       "Input size (MB): 0.00\n",
       "Forward/backward pass size (MB): 0.00\n",
       "Params size (MB): 0.00\n",
       "Estimated Total Size (MB): 0.00\n",
       "=========================================================================================="
      ]
     },
     "execution_count": 16,
     "metadata": {},
     "output_type": "execute_result"
    }
   ],
   "source": [
    "# show the summary \n",
    "summary(model, input_size=(10,5))"
   ]
  },
  {
   "cell_type": "markdown",
   "id": "3bd806ca-3c83-4c34-8f4f-8159e569aefb",
   "metadata": {},
   "source": [
    "<h1 style=\"color:#ff5733; text-align:center; font-size:35px;\">🔥 Code Example of Breast Cancer DataSet🚀</h1>\n"
   ]
  },
  {
   "cell_type": "code",
   "execution_count": 3,
   "id": "9973ac7e-8f23-469f-8373-e2da7b488253",
   "metadata": {},
   "outputs": [],
   "source": [
    "# Already import labraries\n",
    "df = pd.read_csv(\"https://raw.githubusercontent.com/gscdit/Breast-Cancer-Detection/master/data.csv\")"
   ]
  },
  {
   "cell_type": "code",
   "execution_count": 4,
   "id": "78cdf99f-18db-4697-b3c3-70d02e7134ec",
   "metadata": {},
   "outputs": [
    {
     "data": {
      "text/html": [
       "<div>\n",
       "<style scoped>\n",
       "    .dataframe tbody tr th:only-of-type {\n",
       "        vertical-align: middle;\n",
       "    }\n",
       "\n",
       "    .dataframe tbody tr th {\n",
       "        vertical-align: top;\n",
       "    }\n",
       "\n",
       "    .dataframe thead th {\n",
       "        text-align: right;\n",
       "    }\n",
       "</style>\n",
       "<table border=\"1\" class=\"dataframe\">\n",
       "  <thead>\n",
       "    <tr style=\"text-align: right;\">\n",
       "      <th></th>\n",
       "      <th>id</th>\n",
       "      <th>diagnosis</th>\n",
       "      <th>radius_mean</th>\n",
       "      <th>texture_mean</th>\n",
       "      <th>perimeter_mean</th>\n",
       "      <th>area_mean</th>\n",
       "      <th>smoothness_mean</th>\n",
       "      <th>compactness_mean</th>\n",
       "      <th>concavity_mean</th>\n",
       "      <th>concave points_mean</th>\n",
       "      <th>...</th>\n",
       "      <th>texture_worst</th>\n",
       "      <th>perimeter_worst</th>\n",
       "      <th>area_worst</th>\n",
       "      <th>smoothness_worst</th>\n",
       "      <th>compactness_worst</th>\n",
       "      <th>concavity_worst</th>\n",
       "      <th>concave points_worst</th>\n",
       "      <th>symmetry_worst</th>\n",
       "      <th>fractal_dimension_worst</th>\n",
       "      <th>Unnamed: 32</th>\n",
       "    </tr>\n",
       "  </thead>\n",
       "  <tbody>\n",
       "    <tr>\n",
       "      <th>0</th>\n",
       "      <td>842302</td>\n",
       "      <td>M</td>\n",
       "      <td>17.99</td>\n",
       "      <td>10.38</td>\n",
       "      <td>122.80</td>\n",
       "      <td>1001.0</td>\n",
       "      <td>0.11840</td>\n",
       "      <td>0.27760</td>\n",
       "      <td>0.3001</td>\n",
       "      <td>0.14710</td>\n",
       "      <td>...</td>\n",
       "      <td>17.33</td>\n",
       "      <td>184.60</td>\n",
       "      <td>2019.0</td>\n",
       "      <td>0.1622</td>\n",
       "      <td>0.6656</td>\n",
       "      <td>0.7119</td>\n",
       "      <td>0.2654</td>\n",
       "      <td>0.4601</td>\n",
       "      <td>0.11890</td>\n",
       "      <td>NaN</td>\n",
       "    </tr>\n",
       "    <tr>\n",
       "      <th>1</th>\n",
       "      <td>842517</td>\n",
       "      <td>M</td>\n",
       "      <td>20.57</td>\n",
       "      <td>17.77</td>\n",
       "      <td>132.90</td>\n",
       "      <td>1326.0</td>\n",
       "      <td>0.08474</td>\n",
       "      <td>0.07864</td>\n",
       "      <td>0.0869</td>\n",
       "      <td>0.07017</td>\n",
       "      <td>...</td>\n",
       "      <td>23.41</td>\n",
       "      <td>158.80</td>\n",
       "      <td>1956.0</td>\n",
       "      <td>0.1238</td>\n",
       "      <td>0.1866</td>\n",
       "      <td>0.2416</td>\n",
       "      <td>0.1860</td>\n",
       "      <td>0.2750</td>\n",
       "      <td>0.08902</td>\n",
       "      <td>NaN</td>\n",
       "    </tr>\n",
       "    <tr>\n",
       "      <th>2</th>\n",
       "      <td>84300903</td>\n",
       "      <td>M</td>\n",
       "      <td>19.69</td>\n",
       "      <td>21.25</td>\n",
       "      <td>130.00</td>\n",
       "      <td>1203.0</td>\n",
       "      <td>0.10960</td>\n",
       "      <td>0.15990</td>\n",
       "      <td>0.1974</td>\n",
       "      <td>0.12790</td>\n",
       "      <td>...</td>\n",
       "      <td>25.53</td>\n",
       "      <td>152.50</td>\n",
       "      <td>1709.0</td>\n",
       "      <td>0.1444</td>\n",
       "      <td>0.4245</td>\n",
       "      <td>0.4504</td>\n",
       "      <td>0.2430</td>\n",
       "      <td>0.3613</td>\n",
       "      <td>0.08758</td>\n",
       "      <td>NaN</td>\n",
       "    </tr>\n",
       "    <tr>\n",
       "      <th>3</th>\n",
       "      <td>84348301</td>\n",
       "      <td>M</td>\n",
       "      <td>11.42</td>\n",
       "      <td>20.38</td>\n",
       "      <td>77.58</td>\n",
       "      <td>386.1</td>\n",
       "      <td>0.14250</td>\n",
       "      <td>0.28390</td>\n",
       "      <td>0.2414</td>\n",
       "      <td>0.10520</td>\n",
       "      <td>...</td>\n",
       "      <td>26.50</td>\n",
       "      <td>98.87</td>\n",
       "      <td>567.7</td>\n",
       "      <td>0.2098</td>\n",
       "      <td>0.8663</td>\n",
       "      <td>0.6869</td>\n",
       "      <td>0.2575</td>\n",
       "      <td>0.6638</td>\n",
       "      <td>0.17300</td>\n",
       "      <td>NaN</td>\n",
       "    </tr>\n",
       "    <tr>\n",
       "      <th>4</th>\n",
       "      <td>84358402</td>\n",
       "      <td>M</td>\n",
       "      <td>20.29</td>\n",
       "      <td>14.34</td>\n",
       "      <td>135.10</td>\n",
       "      <td>1297.0</td>\n",
       "      <td>0.10030</td>\n",
       "      <td>0.13280</td>\n",
       "      <td>0.1980</td>\n",
       "      <td>0.10430</td>\n",
       "      <td>...</td>\n",
       "      <td>16.67</td>\n",
       "      <td>152.20</td>\n",
       "      <td>1575.0</td>\n",
       "      <td>0.1374</td>\n",
       "      <td>0.2050</td>\n",
       "      <td>0.4000</td>\n",
       "      <td>0.1625</td>\n",
       "      <td>0.2364</td>\n",
       "      <td>0.07678</td>\n",
       "      <td>NaN</td>\n",
       "    </tr>\n",
       "  </tbody>\n",
       "</table>\n",
       "<p>5 rows × 33 columns</p>\n",
       "</div>"
      ],
      "text/plain": [
       "         id diagnosis  radius_mean  texture_mean  perimeter_mean  area_mean  \\\n",
       "0    842302         M        17.99         10.38          122.80     1001.0   \n",
       "1    842517         M        20.57         17.77          132.90     1326.0   \n",
       "2  84300903         M        19.69         21.25          130.00     1203.0   \n",
       "3  84348301         M        11.42         20.38           77.58      386.1   \n",
       "4  84358402         M        20.29         14.34          135.10     1297.0   \n",
       "\n",
       "   smoothness_mean  compactness_mean  concavity_mean  concave points_mean  \\\n",
       "0          0.11840           0.27760          0.3001              0.14710   \n",
       "1          0.08474           0.07864          0.0869              0.07017   \n",
       "2          0.10960           0.15990          0.1974              0.12790   \n",
       "3          0.14250           0.28390          0.2414              0.10520   \n",
       "4          0.10030           0.13280          0.1980              0.10430   \n",
       "\n",
       "   ...  texture_worst  perimeter_worst  area_worst  smoothness_worst  \\\n",
       "0  ...          17.33           184.60      2019.0            0.1622   \n",
       "1  ...          23.41           158.80      1956.0            0.1238   \n",
       "2  ...          25.53           152.50      1709.0            0.1444   \n",
       "3  ...          26.50            98.87       567.7            0.2098   \n",
       "4  ...          16.67           152.20      1575.0            0.1374   \n",
       "\n",
       "   compactness_worst  concavity_worst  concave points_worst  symmetry_worst  \\\n",
       "0             0.6656           0.7119                0.2654          0.4601   \n",
       "1             0.1866           0.2416                0.1860          0.2750   \n",
       "2             0.4245           0.4504                0.2430          0.3613   \n",
       "3             0.8663           0.6869                0.2575          0.6638   \n",
       "4             0.2050           0.4000                0.1625          0.2364   \n",
       "\n",
       "   fractal_dimension_worst  Unnamed: 32  \n",
       "0                  0.11890          NaN  \n",
       "1                  0.08902          NaN  \n",
       "2                  0.08758          NaN  \n",
       "3                  0.17300          NaN  \n",
       "4                  0.07678          NaN  \n",
       "\n",
       "[5 rows x 33 columns]"
      ]
     },
     "execution_count": 4,
     "metadata": {},
     "output_type": "execute_result"
    }
   ],
   "source": [
    "df.head()"
   ]
  },
  {
   "cell_type": "code",
   "execution_count": 5,
   "id": "00762e39-7fb0-48f6-b958-7bbc1d80b615",
   "metadata": {},
   "outputs": [
    {
     "data": {
      "text/plain": [
       "(569, 33)"
      ]
     },
     "execution_count": 5,
     "metadata": {},
     "output_type": "execute_result"
    }
   ],
   "source": [
    "df.shape"
   ]
  },
  {
   "cell_type": "code",
   "execution_count": 6,
   "id": "1db7550f-645c-465b-a2be-f4882edf184f",
   "metadata": {},
   "outputs": [
    {
     "data": {
      "text/html": [
       "<div>\n",
       "<style scoped>\n",
       "    .dataframe tbody tr th:only-of-type {\n",
       "        vertical-align: middle;\n",
       "    }\n",
       "\n",
       "    .dataframe tbody tr th {\n",
       "        vertical-align: top;\n",
       "    }\n",
       "\n",
       "    .dataframe thead th {\n",
       "        text-align: right;\n",
       "    }\n",
       "</style>\n",
       "<table border=\"1\" class=\"dataframe\">\n",
       "  <thead>\n",
       "    <tr style=\"text-align: right;\">\n",
       "      <th></th>\n",
       "      <th>diagnosis</th>\n",
       "      <th>radius_mean</th>\n",
       "      <th>texture_mean</th>\n",
       "      <th>perimeter_mean</th>\n",
       "      <th>area_mean</th>\n",
       "      <th>smoothness_mean</th>\n",
       "      <th>compactness_mean</th>\n",
       "      <th>concavity_mean</th>\n",
       "      <th>concave points_mean</th>\n",
       "      <th>symmetry_mean</th>\n",
       "      <th>...</th>\n",
       "      <th>radius_worst</th>\n",
       "      <th>texture_worst</th>\n",
       "      <th>perimeter_worst</th>\n",
       "      <th>area_worst</th>\n",
       "      <th>smoothness_worst</th>\n",
       "      <th>compactness_worst</th>\n",
       "      <th>concavity_worst</th>\n",
       "      <th>concave points_worst</th>\n",
       "      <th>symmetry_worst</th>\n",
       "      <th>fractal_dimension_worst</th>\n",
       "    </tr>\n",
       "  </thead>\n",
       "  <tbody>\n",
       "    <tr>\n",
       "      <th>0</th>\n",
       "      <td>M</td>\n",
       "      <td>17.99</td>\n",
       "      <td>10.38</td>\n",
       "      <td>122.80</td>\n",
       "      <td>1001.0</td>\n",
       "      <td>0.11840</td>\n",
       "      <td>0.27760</td>\n",
       "      <td>0.3001</td>\n",
       "      <td>0.14710</td>\n",
       "      <td>0.2419</td>\n",
       "      <td>...</td>\n",
       "      <td>25.38</td>\n",
       "      <td>17.33</td>\n",
       "      <td>184.60</td>\n",
       "      <td>2019.0</td>\n",
       "      <td>0.1622</td>\n",
       "      <td>0.6656</td>\n",
       "      <td>0.7119</td>\n",
       "      <td>0.2654</td>\n",
       "      <td>0.4601</td>\n",
       "      <td>0.11890</td>\n",
       "    </tr>\n",
       "    <tr>\n",
       "      <th>1</th>\n",
       "      <td>M</td>\n",
       "      <td>20.57</td>\n",
       "      <td>17.77</td>\n",
       "      <td>132.90</td>\n",
       "      <td>1326.0</td>\n",
       "      <td>0.08474</td>\n",
       "      <td>0.07864</td>\n",
       "      <td>0.0869</td>\n",
       "      <td>0.07017</td>\n",
       "      <td>0.1812</td>\n",
       "      <td>...</td>\n",
       "      <td>24.99</td>\n",
       "      <td>23.41</td>\n",
       "      <td>158.80</td>\n",
       "      <td>1956.0</td>\n",
       "      <td>0.1238</td>\n",
       "      <td>0.1866</td>\n",
       "      <td>0.2416</td>\n",
       "      <td>0.1860</td>\n",
       "      <td>0.2750</td>\n",
       "      <td>0.08902</td>\n",
       "    </tr>\n",
       "    <tr>\n",
       "      <th>2</th>\n",
       "      <td>M</td>\n",
       "      <td>19.69</td>\n",
       "      <td>21.25</td>\n",
       "      <td>130.00</td>\n",
       "      <td>1203.0</td>\n",
       "      <td>0.10960</td>\n",
       "      <td>0.15990</td>\n",
       "      <td>0.1974</td>\n",
       "      <td>0.12790</td>\n",
       "      <td>0.2069</td>\n",
       "      <td>...</td>\n",
       "      <td>23.57</td>\n",
       "      <td>25.53</td>\n",
       "      <td>152.50</td>\n",
       "      <td>1709.0</td>\n",
       "      <td>0.1444</td>\n",
       "      <td>0.4245</td>\n",
       "      <td>0.4504</td>\n",
       "      <td>0.2430</td>\n",
       "      <td>0.3613</td>\n",
       "      <td>0.08758</td>\n",
       "    </tr>\n",
       "    <tr>\n",
       "      <th>3</th>\n",
       "      <td>M</td>\n",
       "      <td>11.42</td>\n",
       "      <td>20.38</td>\n",
       "      <td>77.58</td>\n",
       "      <td>386.1</td>\n",
       "      <td>0.14250</td>\n",
       "      <td>0.28390</td>\n",
       "      <td>0.2414</td>\n",
       "      <td>0.10520</td>\n",
       "      <td>0.2597</td>\n",
       "      <td>...</td>\n",
       "      <td>14.91</td>\n",
       "      <td>26.50</td>\n",
       "      <td>98.87</td>\n",
       "      <td>567.7</td>\n",
       "      <td>0.2098</td>\n",
       "      <td>0.8663</td>\n",
       "      <td>0.6869</td>\n",
       "      <td>0.2575</td>\n",
       "      <td>0.6638</td>\n",
       "      <td>0.17300</td>\n",
       "    </tr>\n",
       "    <tr>\n",
       "      <th>4</th>\n",
       "      <td>M</td>\n",
       "      <td>20.29</td>\n",
       "      <td>14.34</td>\n",
       "      <td>135.10</td>\n",
       "      <td>1297.0</td>\n",
       "      <td>0.10030</td>\n",
       "      <td>0.13280</td>\n",
       "      <td>0.1980</td>\n",
       "      <td>0.10430</td>\n",
       "      <td>0.1809</td>\n",
       "      <td>...</td>\n",
       "      <td>22.54</td>\n",
       "      <td>16.67</td>\n",
       "      <td>152.20</td>\n",
       "      <td>1575.0</td>\n",
       "      <td>0.1374</td>\n",
       "      <td>0.2050</td>\n",
       "      <td>0.4000</td>\n",
       "      <td>0.1625</td>\n",
       "      <td>0.2364</td>\n",
       "      <td>0.07678</td>\n",
       "    </tr>\n",
       "  </tbody>\n",
       "</table>\n",
       "<p>5 rows × 31 columns</p>\n",
       "</div>"
      ],
      "text/plain": [
       "  diagnosis  radius_mean  texture_mean  perimeter_mean  area_mean  \\\n",
       "0         M        17.99         10.38          122.80     1001.0   \n",
       "1         M        20.57         17.77          132.90     1326.0   \n",
       "2         M        19.69         21.25          130.00     1203.0   \n",
       "3         M        11.42         20.38           77.58      386.1   \n",
       "4         M        20.29         14.34          135.10     1297.0   \n",
       "\n",
       "   smoothness_mean  compactness_mean  concavity_mean  concave points_mean  \\\n",
       "0          0.11840           0.27760          0.3001              0.14710   \n",
       "1          0.08474           0.07864          0.0869              0.07017   \n",
       "2          0.10960           0.15990          0.1974              0.12790   \n",
       "3          0.14250           0.28390          0.2414              0.10520   \n",
       "4          0.10030           0.13280          0.1980              0.10430   \n",
       "\n",
       "   symmetry_mean  ...  radius_worst  texture_worst  perimeter_worst  \\\n",
       "0         0.2419  ...         25.38          17.33           184.60   \n",
       "1         0.1812  ...         24.99          23.41           158.80   \n",
       "2         0.2069  ...         23.57          25.53           152.50   \n",
       "3         0.2597  ...         14.91          26.50            98.87   \n",
       "4         0.1809  ...         22.54          16.67           152.20   \n",
       "\n",
       "   area_worst  smoothness_worst  compactness_worst  concavity_worst  \\\n",
       "0      2019.0            0.1622             0.6656           0.7119   \n",
       "1      1956.0            0.1238             0.1866           0.2416   \n",
       "2      1709.0            0.1444             0.4245           0.4504   \n",
       "3       567.7            0.2098             0.8663           0.6869   \n",
       "4      1575.0            0.1374             0.2050           0.4000   \n",
       "\n",
       "   concave points_worst  symmetry_worst  fractal_dimension_worst  \n",
       "0                0.2654          0.4601                  0.11890  \n",
       "1                0.1860          0.2750                  0.08902  \n",
       "2                0.2430          0.3613                  0.08758  \n",
       "3                0.2575          0.6638                  0.17300  \n",
       "4                0.1625          0.2364                  0.07678  \n",
       "\n",
       "[5 rows x 31 columns]"
      ]
     },
     "execution_count": 6,
     "metadata": {},
     "output_type": "execute_result"
    }
   ],
   "source": [
    "df.drop(columns=['id','Unnamed: 32'], inplace = True)\n",
    "df.head()"
   ]
  },
  {
   "cell_type": "code",
   "execution_count": 7,
   "id": "279dd594-5b3e-465e-b10b-cca9830c52fb",
   "metadata": {},
   "outputs": [],
   "source": [
    "X_train, X_test, Y_train, Y_test = train_test_split(df.iloc[:, 1:] , df.iloc[:, 0], test_size=0.2)"
   ]
  },
  {
   "cell_type": "code",
   "execution_count": 8,
   "id": "b7708c92-a6c6-4f82-a69d-1417e6c248a5",
   "metadata": {},
   "outputs": [
    {
     "data": {
      "text/plain": [
       "array([[-0.5370467 ,  1.70408785, -0.47563683, ...,  0.43732559,\n",
       "         0.4852181 ,  2.04534613],\n",
       "       [ 0.0036438 ,  0.71949071,  0.03665086, ...,  0.2889283 ,\n",
       "        -0.32108509, -0.03428394],\n",
       "       [-0.1588435 , -0.76083169, -0.20406752, ..., -0.72583379,\n",
       "         0.65365281, -0.39972313],\n",
       "       ...,\n",
       "       [-0.15604199, -0.40217333, -0.20731499, ..., -0.40609118,\n",
       "        -0.60180961, -0.8163238 ],\n",
       "       [ 1.17467297,  0.57328603,  1.1095323 , ...,  0.31493607,\n",
       "         0.31990255, -0.45088461],\n",
       "       [-1.26123579,  2.01020391, -1.26598877, ..., -1.05031901,\n",
       "        -0.909047  , -0.67520805]], shape=(455, 30))"
      ]
     },
     "execution_count": 8,
     "metadata": {},
     "output_type": "execute_result"
    }
   ],
   "source": [
    "scaler = StandardScaler()\n",
    "X_train = scaler.fit_transform(X_train)\n",
    "X_test = scaler.transform(X_test)\n",
    "X_train"
   ]
  },
  {
   "cell_type": "code",
   "execution_count": 9,
   "id": "e8b80ed4-64b4-47f3-b5a2-f64375742a8e",
   "metadata": {},
   "outputs": [
    {
     "data": {
      "text/plain": [
       "array([1, 1, 0, 1, 0, 1, 1, 0, 0, 1, 1, 1, 1, 0, 1, 0, 0, 1, 0, 0, 0, 0,\n",
       "       0, 0, 0, 1, 1, 1, 1, 1, 0, 1, 0, 0, 1, 1, 1, 0, 0, 0, 1, 0, 0, 0,\n",
       "       0, 0, 0, 1, 0, 1, 1, 1, 0, 1, 0, 0, 1, 0, 0, 0, 0, 1, 0, 0, 1, 0,\n",
       "       0, 1, 0, 0, 0, 1, 0, 1, 1, 0, 1, 1, 0, 1, 1, 1, 0, 0, 0, 1, 0, 0,\n",
       "       0, 0, 0, 0, 0, 0, 0, 1, 0, 1, 0, 0, 1, 1, 1, 0, 1, 0, 0, 0, 0, 0,\n",
       "       0, 1, 0, 0, 0, 0, 1, 0, 1, 1, 1, 0, 1, 1, 0, 0, 0, 0, 1, 0, 0, 0,\n",
       "       1, 1, 0, 0, 0, 0, 1, 1, 0, 0, 1, 0, 1, 0, 1, 0, 0, 0, 0, 1, 0, 0,\n",
       "       1, 1, 0, 0, 0, 0, 0, 0, 0, 0, 0, 1, 1, 0, 0, 1, 1, 0, 0, 1, 0, 0,\n",
       "       1, 0, 1, 0, 0, 0, 0, 1, 0, 0, 1, 1, 1, 1, 0, 0, 0, 0, 0, 0, 0, 0,\n",
       "       0, 1, 0, 0, 1, 1, 0, 1, 1, 0, 1, 0, 0, 1, 0, 0, 0, 0, 1, 1, 1, 1,\n",
       "       0, 0, 0, 0, 0, 1, 1, 1, 0, 0, 0, 1, 0, 0, 1, 1, 1, 1, 1, 0, 0, 0,\n",
       "       0, 0, 0, 1, 1, 1, 0, 0, 1, 0, 0, 0, 0, 1, 1, 0, 1, 0, 1, 0, 0, 0,\n",
       "       0, 0, 0, 1, 0, 0, 1, 1, 0, 0, 0, 0, 0, 1, 0, 1, 0, 1, 0, 0, 0, 0,\n",
       "       0, 1, 0, 0, 0, 1, 0, 0, 1, 0, 0, 0, 0, 1, 0, 0, 1, 1, 0, 0, 0, 0,\n",
       "       1, 1, 0, 0, 0, 1, 1, 0, 0, 0, 0, 0, 1, 1, 0, 0, 1, 1, 0, 1, 0, 0,\n",
       "       0, 1, 1, 1, 1, 1, 1, 0, 1, 1, 0, 0, 1, 0, 1, 1, 0, 0, 0, 0, 0, 1,\n",
       "       0, 1, 0, 1, 1, 0, 1, 0, 1, 0, 0, 1, 0, 0, 1, 1, 0, 0, 0, 0, 0, 0,\n",
       "       1, 1, 0, 1, 0, 1, 0, 0, 0, 1, 0, 1, 0, 1, 0, 1, 0, 0, 0, 0, 0, 0,\n",
       "       0, 1, 0, 1, 1, 0, 0, 0, 0, 0, 0, 0, 0, 0, 0, 0, 1, 0, 1, 1, 1, 0,\n",
       "       0, 1, 0, 0, 1, 0, 1, 1, 0, 0, 1, 1, 0, 0, 0, 0, 0, 0, 0, 0, 0, 0,\n",
       "       0, 0, 1, 0, 1, 1, 1, 1, 0, 0, 0, 1, 0, 1, 0])"
      ]
     },
     "execution_count": 9,
     "metadata": {},
     "output_type": "execute_result"
    }
   ],
   "source": [
    "# Encode the data to (0,1)\n",
    "encoder = LabelEncoder()\n",
    "Y_train = encoder.fit_transform(Y_train)\n",
    "Y_test = encoder.transform(Y_test)\n",
    "Y_train"
   ]
  },
  {
   "cell_type": "code",
   "execution_count": 10,
   "id": "8355e142-2f0a-4612-b369-8fb9d722f995",
   "metadata": {},
   "outputs": [],
   "source": [
    "X_test_tensor = torch.from_numpy(X_test).float()\n",
    "X_train_tensor = torch.from_numpy(X_train).float()\n",
    "Y_test_tensor = torch.from_numpy(Y_test).float()\n",
    "Y_train_tensor = torch.from_numpy(Y_train).float()"
   ]
  },
  {
   "cell_type": "code",
   "execution_count": 70,
   "id": "57bf6720-210c-4800-9f1b-10538c421e15",
   "metadata": {},
   "outputs": [
    {
     "data": {
      "text/plain": [
       "torch.Size([455, 30])"
      ]
     },
     "execution_count": 70,
     "metadata": {},
     "output_type": "execute_result"
    }
   ],
   "source": [
    "X_train_tensor.shape"
   ]
  },
  {
   "cell_type": "code",
   "execution_count": 71,
   "id": "cff6aaf6-2421-4d05-873f-747a1dfe8d53",
   "metadata": {},
   "outputs": [
    {
     "data": {
      "text/plain": [
       "torch.Size([455])"
      ]
     },
     "execution_count": 71,
     "metadata": {},
     "output_type": "execute_result"
    }
   ],
   "source": [
    "Y_train_tensor.shape"
   ]
  },
  {
   "cell_type": "markdown",
   "id": "04900902-6f6e-4b6f-8bfa-4b5e336e6003",
   "metadata": {},
   "source": [
    "<h1 style=\"color:#ff5733; text-align:center; font-size:35px;\">🔥 <b style=\"color:#33A1FF;\">Main NN Module</b> 🚀</h1>\n"
   ]
  },
  {
   "cell_type": "code",
   "execution_count": 72,
   "id": "772021bb-2584-4c3f-90c0-80ac8995b64f",
   "metadata": {},
   "outputs": [],
   "source": [
    "class MySimpleNN(nn.Module):\n",
    "    def __init__(self, num_features):\n",
    "        super(MySimpleNN, self).__init__()\n",
    "        self.linear = nn.Linear(num_features, 1)  # Linear layer\n",
    "        self.sigmoid = nn.Sigmoid()  # Sigmoid activation\n",
    "\n",
    "    def forward(self, features):\n",
    "        z = self.linear(features)  # Linear transformation\n",
    "        y_pred = self.sigmoid(z)  # Apply sigmoid\n",
    "        return y_pred\n",
    "\n",
    "    def loss_function(self, y_pred, y):\n",
    "        # clamp prediction to aovid log(0)\n",
    "        epsilon = 1e-8\n",
    "        y_pred = torch.clamp(y_pred, epsilon, 1 - epsilon)\n",
    "        #calculate loss\n",
    "        loss = -(Y_train_tensor * torch.log(y_pred) + (1 - Y_train_tensor) * torch.log(1 -y_pred)).mean()\n",
    "        return loss"
   ]
  },
  {
   "cell_type": "code",
   "execution_count": 73,
   "id": "e6350d69-1994-4930-981d-821e062f5b06",
   "metadata": {},
   "outputs": [],
   "source": [
    "# Important Parameters\n",
    "learning_rate = 0.01\n",
    "epochs = 25"
   ]
  },
  {
   "cell_type": "code",
   "execution_count": 74,
   "id": "a48d01d7-f0d8-456b-8c1b-3111f28e6a22",
   "metadata": {},
   "outputs": [
    {
     "name": "stdout",
     "output_type": "stream",
     "text": [
      "Epoch: 1, Loss:0.7369337677955627 \n",
      "Epoch: 2, Loss:0.7347106337547302 \n",
      "Epoch: 3, Loss:0.7325944900512695 \n",
      "Epoch: 4, Loss:0.7305803298950195 \n",
      "Epoch: 5, Loss:0.7286635041236877 \n",
      "Epoch: 6, Loss:0.7268393039703369 \n",
      "Epoch: 7, Loss:0.7251032590866089 \n",
      "Epoch: 8, Loss:0.7234512567520142 \n",
      "Epoch: 9, Loss:0.7218789458274841 \n",
      "Epoch: 10, Loss:0.7203823328018188 \n",
      "Epoch: 11, Loss:0.7189577221870422 \n",
      "Epoch: 12, Loss:0.7176014184951782 \n",
      "Epoch: 13, Loss:0.7163099050521851 \n",
      "Epoch: 14, Loss:0.7150798439979553 \n",
      "Epoch: 15, Loss:0.7139080166816711 \n",
      "Epoch: 16, Loss:0.712791383266449 \n",
      "Epoch: 17, Loss:0.7117270827293396 \n",
      "Epoch: 18, Loss:0.7107123136520386 \n",
      "Epoch: 19, Loss:0.7097444534301758 \n",
      "Epoch: 20, Loss:0.7088209986686707 \n",
      "Epoch: 21, Loss:0.7079395651817322 \n",
      "Epoch: 22, Loss:0.7070980072021484 \n",
      "Epoch: 23, Loss:0.706294059753418 \n",
      "Epoch: 24, Loss:0.7055257558822632 \n",
      "Epoch: 25, Loss:0.7047911882400513 \n"
     ]
    }
   ],
   "source": [
    "# Training Pipline \n",
    "# create model\n",
    "model = MySimpleNN(X_train_tensor.shape[1])\n",
    "# define loopabs\n",
    "for epoch in range(epochs):\n",
    "    # forward pass \n",
    "    y_pred = model(X_train_tensor)\n",
    "    # loss function\n",
    "    loss = model.loss_function(y_pred,Y_train_tensor)\n",
    "    # Backward Pass \n",
    "    loss.backward()\n",
    "    # Update Parameters\n",
    "    with torch.no_grad():\n",
    "        model.linear.weight -= learning_rate * model.linear.weight.grad\n",
    "        model.linear.bias -= learning_rate * model.linear.bias.grad\n",
    "    # zero gradient\n",
    "    model.linear.weight.grad.zero_()\n",
    "    model.linear.bias.grad.zero_()\n",
    "    print(f'Epoch: {epoch + 1}, Loss:{loss.item()} ')"
   ]
  },
  {
   "cell_type": "code",
   "execution_count": 75,
   "id": "16e32cce-e16e-4199-8480-221709860fd7",
   "metadata": {},
   "outputs": [
    {
     "name": "stdout",
     "output_type": "stream",
     "text": [
      "Accuracy: 0.5775623321533203\n"
     ]
    }
   ],
   "source": [
    "# Model Evaluatio\n",
    "with torch.no_grad():\n",
    "    y_pred = model.forward(X_test_tensor)\n",
    "    y_pred = (y_pred > 0.5).float()\n",
    "    accuracy = (y_pred == Y_test_tensor).float().mean()\n",
    "    print(f'Accuracy: {accuracy.item()}')\n",
    " "
   ]
  },
  {
   "cell_type": "markdown",
   "id": "e0bbd70a-57c2-439c-8924-bfdc73c99918",
   "metadata": {},
   "source": [
    "### Use nn  module function "
   ]
  },
  {
   "cell_type": "code",
   "execution_count": 63,
   "id": "5fe242fc-db3f-4cfb-b1dd-2a795c5c29a4",
   "metadata": {},
   "outputs": [],
   "source": [
    "class MySimpleNN(nn.Module):\n",
    "    def __init__(self, num_features):\n",
    "        super(MySimpleNN, self).__init__()\n",
    "        self.linear = nn.Linear(num_features, 1)  # Linear layer\n",
    "        self.sigmoid = nn.Sigmoid()  # Sigmoid activation\n",
    "\n",
    "    def forward(self, features):\n",
    "        z = self.linear(features)  # Linear transformation\n",
    "        y_pred = self.sigmoid(z)  # Apply sigmoid\n",
    "        return y_pred\n",
    "\n"
   ]
  },
  {
   "cell_type": "code",
   "execution_count": 76,
   "id": "c324927c-9bd7-4d19-99fd-8e5490efe782",
   "metadata": {},
   "outputs": [],
   "source": [
    "learning_rate = 0.01\n",
    "epochs = 25"
   ]
  },
  {
   "cell_type": "code",
   "execution_count": 81,
   "id": "a2679d7e-243c-4bf9-9d04-856fc7fa287e",
   "metadata": {},
   "outputs": [],
   "source": [
    "# Binary cross entropy loss function\n",
    "Loss = nn.BCELoss()"
   ]
  },
  {
   "cell_type": "code",
   "execution_count": 84,
   "id": "e2f10d14-d789-4f21-a102-f681860cbb10",
   "metadata": {},
   "outputs": [],
   "source": [
    "# use optimazer \n",
    "optimazwer = torch.optim.SGD(model.parameters(), lr = learning_rate)"
   ]
  },
  {
   "cell_type": "code",
   "execution_count": 88,
   "id": "54a05d5a-b2b6-49b1-ad32-a622d8f61052",
   "metadata": {},
   "outputs": [
    {
     "name": "stdout",
     "output_type": "stream",
     "text": [
      "Epoch: 1, Loss:0.44549915194511414 \n",
      "Epoch: 2, Loss:0.44549915194511414 \n",
      "Epoch: 3, Loss:0.44549915194511414 \n",
      "Epoch: 4, Loss:0.44549915194511414 \n",
      "Epoch: 5, Loss:0.44549915194511414 \n",
      "Epoch: 6, Loss:0.44549915194511414 \n",
      "Epoch: 7, Loss:0.44549915194511414 \n",
      "Epoch: 8, Loss:0.44549915194511414 \n",
      "Epoch: 9, Loss:0.44549915194511414 \n",
      "Epoch: 10, Loss:0.44549915194511414 \n",
      "Epoch: 11, Loss:0.44549915194511414 \n",
      "Epoch: 12, Loss:0.44549915194511414 \n",
      "Epoch: 13, Loss:0.44549915194511414 \n",
      "Epoch: 14, Loss:0.44549915194511414 \n",
      "Epoch: 15, Loss:0.44549915194511414 \n",
      "Epoch: 16, Loss:0.44549915194511414 \n",
      "Epoch: 17, Loss:0.44549915194511414 \n",
      "Epoch: 18, Loss:0.44549915194511414 \n",
      "Epoch: 19, Loss:0.44549915194511414 \n",
      "Epoch: 20, Loss:0.44549915194511414 \n",
      "Epoch: 21, Loss:0.44549915194511414 \n",
      "Epoch: 22, Loss:0.44549915194511414 \n",
      "Epoch: 23, Loss:0.44549915194511414 \n",
      "Epoch: 24, Loss:0.44549915194511414 \n",
      "Epoch: 25, Loss:0.44549915194511414 \n"
     ]
    }
   ],
   "source": [
    "# Training Pipline \n",
    "# create model\n",
    "model = MySimpleNN(X_train_tensor.shape[1])\n",
    "# define loopabs\n",
    "for epoch in range(epochs):\n",
    "    # forward pass \n",
    "    y_pred = model(X_train_tensor)\n",
    "    # loss function\n",
    "    loss = Loss(y_pred,Y_train_tensor.view(-1,1))\n",
    "    # Backward Pass \n",
    "    loss.backward()\n",
    "    # Update Parameters\n",
    "    \"\"\" with torch.no_grad():\n",
    "        model.linear.weight -= learning_rate * model.linear.weight.grad\n",
    "        model.linear.bias -= learning_rate * model.linear.bias.grad\"\"\"\n",
    "    optimazwer.step()\n",
    "\n",
    "    optimazwer.zero_grad()\n",
    "    \n",
    "    print(f'Epoch: {epoch + 1}, Loss:{loss.item()} ')"
   ]
  },
  {
   "cell_type": "code",
   "execution_count": 89,
   "id": "ad117ccf-d412-4f1d-9be5-9bb2302f7826",
   "metadata": {},
   "outputs": [
    {
     "name": "stdout",
     "output_type": "stream",
     "text": [
      "Accuracy: 0.5083102583885193\n"
     ]
    }
   ],
   "source": [
    "# Model Evaluatio\n",
    "with torch.no_grad():\n",
    "    y_pred = model.forward(X_test_tensor)\n",
    "    y_pred = (y_pred > 0.5).float()\n",
    "    accuracy = (y_pred == Y_test_tensor).float().mean()\n",
    "    print(f'Accuracy: {accuracy.item()}')\n",
    " "
   ]
  },
  {
   "cell_type": "code",
   "execution_count": null,
   "id": "2301b545-4378-4e74-86bc-2b2e9739a344",
   "metadata": {},
   "outputs": [],
   "source": []
  }
 ],
 "metadata": {
  "kernelspec": {
   "display_name": "Python 3 (ipykernel)",
   "language": "python",
   "name": "python3"
  },
  "language_info": {
   "codemirror_mode": {
    "name": "ipython",
    "version": 3
   },
   "file_extension": ".py",
   "mimetype": "text/x-python",
   "name": "python",
   "nbconvert_exporter": "python",
   "pygments_lexer": "ipython3",
   "version": "3.10.16"
  }
 },
 "nbformat": 4,
 "nbformat_minor": 5
}
