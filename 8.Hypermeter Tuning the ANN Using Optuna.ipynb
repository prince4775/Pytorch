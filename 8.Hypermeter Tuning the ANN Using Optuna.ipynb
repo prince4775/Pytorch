{
 "cells": [
  {
   "cell_type": "markdown",
   "id": "9f66fe2e-7c9b-4355-ba9a-07384a5c04ab",
   "metadata": {},
   "source": [
    "<h1 style=\"color:#ff5733; text-align:center; font-size:45px;\">🚀 Hello! I'm <b style=\"color:#33A1FF;\">Yahya Ahmad</b> 👋</h1>\n",
    "\n",
    "<p style=\"font-size:22px; text-align:center; color:#444;\">\n",
    "I'm a beginner passionate about <b style=\"color:#FF914D;\">technology</b>, <b style=\"color:#FF914D;\">machine learning</b>, and <b style=\"color:#FF914D;\">Python programming</b>. \n",
    "I'm excited to learn and grow in the world of <b style=\"color:#33A1FF;\">data science</b> and <b style=\"color:#33A1FF;\">AI</b>. 🚀\n",
    "</p>\n",
    "\n",
    "<hr style=\"border:2px solid #ff5733; width:80%;\">\n",
    "\n",
    "<h2 style=\"color:#33A1FF; font-size:30px;\">🎯 My Interests:</h2>\n",
    "\n",
    "<ul style=\"font-size:22px; color:#444;\">\n",
    "    <li><b style=\"color:#FF914D;\">Programming</b>: Python </li>\n",
    "    <li><b style=\"color:#FF914D;\">Machine Learning</b>: Exploring PyTorch and TensorFlow</li>\n",
    "    <li><b style=\"color:#FF914D;\">Deep Learning AI</b>: Neural Networks & Computer Vision</li>\n",
    "</ul>\n",
    "\n",
    "<hr style=\"border:2px solid #ff5733; width:80%;\">\n",
    "\n",
    "<h2 style=\"color:#33A1FF; font-size:30px;\">📬 Let's Connect!</h2>\n",
    "\n",
    "<ul style=\"font-size:22px; color:#444;\">\n",
    "    <li>📧 <b>Email</b>: <a href=\"mailto:Ya0280780@gmail.com\" style=\"color:#FF914D;\">Ya0280780@gmail.com</a></li>\n",
    "    <li>🔗 <b>LinkedIn</b>: <a href=\"https://www.linkedin.com/in/yahya-ahmad-8538312b1/\" style=\"color:#FF914D;\">Yahya Ahmad on LinkedIn</a></li>\n",
    "    <li>💻 <b>GitHub</b>: <a href=\"https://github.com/Yahyaahmad09/Courses\" style=\"color:#FF914D;\">My GitHub Repository</a></li>\n",
    "</ul>\n",
    "\n",
    "<hr style=\"border:2px solid #ff5733; width:80%;\">\n"
   ]
  },
  {
   "cell_type": "markdown",
   "id": "54054b9b-f03a-4bc8-a6be-7a586aaf7496",
   "metadata": {},
   "source": [
    "<h1 style=\"color:#FF5733; text-align:center; font-size:38px;\">🎯 Hyperparameter Tuning with Optuna</h1>\n",
    "\n",
    "<hr style=\"border:2px solid #FF5733;\">\n",
    "\n",
    "<h2 style=\"color:#33A1FF; font-size:28px;\">🔥 Introduction</h2>\n",
    "<p style=\"font-size:18px;\">\n",
    "Hyperparameter tuning is a crucial step in optimizing deep learning models. Instead of manually trying different hyperparameters, we use <b style=\"color:#FF5733;\">Optuna</b>, a powerful and efficient <b>hyperparameter optimization framework</b>. It helps us automatically search for the best parameters, leading to improved model performance.\n",
    "</p>\n",
    "\n",
    "<h2 style=\"color:#33A1FF; font-size:28px;\">📌 Why Optuna?</h2>\n",
    "<ul style=\"font-size:18px;\">\n",
    "    <li>✅ <b style=\"color:#FF914D;\">Automated search:</b> Finds the best hyperparameters without manual effort.</li>\n",
    "    <li>✅ <b style=\"color:#FF914D;\">Efficient pruning:</b> Stops unpromising trials early to save time.</li>\n",
    "    <li>✅ <b style=\"color:#FF914D;\">Easy integration:</b> Works well with PyTorch and Scikit-Learn.</li>\n",
    "    <li>✅ <b style=\"color:#FF914D;\">Supports various optimization strategies:</b> TPE (Tree-structured Parzen Estimator), Grid Search, and Random Search.</li>\n",
    "</ul>\n",
    "\n",
    "<h2 style=\"color:#33A1FF; font-size:28px;\">⚙️ Hyperparameters We Will Tune</h2>\n",
    "<p style=\"font-size:18px;\">In this notebook, we will use Optuna to optimize the hyperparameters of our <b style=\"color:#D63384;\">Artificial Neural Network (ANN)</b> for <b>Fashion MNIST</b> and <b>Breast Cancer Classification</b>.</p>\n",
    "\n",
    "<h3 style=\"color:#FF5733; font-size:22px;\">🔢 Learning Rate</h3>\n",
    "<p style=\"font-size:18px;\">Controls how much to adjust weights during training. A small value may lead to slow learning, while a large value may cause instability.</p>\n",
    "\n",
    "<h3 style=\"color:#FF5733; font-size:22px;\">🏗️ Number of Hidden Layers</h3>\n",
    "<p style=\"font-size:18px;\">Determines the model's depth and ability to learn complex patterns.</p>\n",
    "\n",
    "<h3 style=\"color:#FF5733; font-size:22px;\">🔢 Number of Neurons per Layer</h3>\n",
    "<p style=\"font-size:18px;\">Defines the capacity of each layer to capture features.</p>\n",
    "\n",
    "<h3 style=\"color:#FF5733; font-size:22px;\">📦 Batch Size</h3>\n",
    "<p style=\"font-size:18px;\">Influences training speed and model performance.</p>\n",
    "\n",
    "<h3 style=\"color:#FF5733; font-size:22px;\">⚙️ Optimizer Type</h3>\n",
    "<p style=\"font-size:18px;\">We will experiment with different optimizers such as <b>SGD, Adam, and RMSprop</b> to find the most effective one.</p>\n",
    "\n",
    "<h2 style=\"color:#33A1FF; font-size:28px;\">🛠️ Optimization Process</h2>\n",
    "<p style=\"font-size:18px;\">\n",
    "<b>Steps to Tune:</b>\n",
    "<ul style=\"font-size:18px;\">\n",
    "    <li>Define the objective function.</li>\n",
    "    <li>Set the search space for each hyperparameter.</li>\n",
    "    <li>Use <b style=\"color:#FF5733;\">Optuna</b> to explore the best combinations.</li>\n",
    "    <li>Train the ANN and evaluate performance.</li>\n",
    "    <li>Analyze the results and select the optimal configuration.</li>\n",
    "</ul>\n",
    "</p>\n",
    "\n",
    "<h2 style=\"color:#33A1FF; font-size:28px;\">🎯 Conclusion</h2>\n",
    "<p style=\"font-size:18px;\">\n",
    "Hyperparameter tuning with Optuna enables us to efficiently optimize our model for better accuracy and performance. Through an intelligent search strategy, we can identify the most effective configuration without extensive manual effort.\n",
    "</p>\n",
    "\n",
    "<hr style=\"border:1px solid #ccc;\">\n",
    "<p style=\"text-align:center; font-size:18px;\">\n",
    "🔗 <a href=\"https://optuna.org/\" style=\"color:#FF5733; text-decoration:none; font-weight:bold;\">Learn More About Optuna</a>\n",
    "</p>\n"
   ]
  },
  {
   "cell_type": "code",
   "execution_count": 89,
   "id": "6adcc4ce-e8df-4cc2-bb2f-101eb9e17e35",
   "metadata": {},
   "outputs": [],
   "source": [
    "# import the necessray Labraries\n",
    "import pandas as pd \n",
    "from sklearn.model_selection import train_test_split\n",
    "import torch\n",
    "from torch.utils.data import Dataset, DataLoader\n",
    "import torch.nn as nn\n",
    "import torch.optim as optim\n",
    "import matplotlib.pyplot as plt"
   ]
  },
  {
   "cell_type": "code",
   "execution_count": 90,
   "id": "8623376d-c9a2-411f-a15c-c0b7679b6ddd",
   "metadata": {},
   "outputs": [
    {
     "data": {
      "text/plain": [
       "<torch._C.Generator at 0x2acfcafe9d0>"
      ]
     },
     "execution_count": 90,
     "metadata": {},
     "output_type": "execute_result"
    }
   ],
   "source": [
    "# set the random seed for reproducbility\n",
    "torch.manual_seed(42)"
   ]
  },
  {
   "cell_type": "code",
   "execution_count": 91,
   "id": "c1720b36-90f3-4009-801f-33aad239b044",
   "metadata": {},
   "outputs": [
    {
     "data": {
      "text/html": [
       "<div>\n",
       "<style scoped>\n",
       "    .dataframe tbody tr th:only-of-type {\n",
       "        vertical-align: middle;\n",
       "    }\n",
       "\n",
       "    .dataframe tbody tr th {\n",
       "        vertical-align: top;\n",
       "    }\n",
       "\n",
       "    .dataframe thead th {\n",
       "        text-align: right;\n",
       "    }\n",
       "</style>\n",
       "<table border=\"1\" class=\"dataframe\">\n",
       "  <thead>\n",
       "    <tr style=\"text-align: right;\">\n",
       "      <th></th>\n",
       "      <th>label</th>\n",
       "      <th>pixel1</th>\n",
       "      <th>pixel2</th>\n",
       "      <th>pixel3</th>\n",
       "      <th>pixel4</th>\n",
       "      <th>pixel5</th>\n",
       "      <th>pixel6</th>\n",
       "      <th>pixel7</th>\n",
       "      <th>pixel8</th>\n",
       "      <th>pixel9</th>\n",
       "      <th>...</th>\n",
       "      <th>pixel775</th>\n",
       "      <th>pixel776</th>\n",
       "      <th>pixel777</th>\n",
       "      <th>pixel778</th>\n",
       "      <th>pixel779</th>\n",
       "      <th>pixel780</th>\n",
       "      <th>pixel781</th>\n",
       "      <th>pixel782</th>\n",
       "      <th>pixel783</th>\n",
       "      <th>pixel784</th>\n",
       "    </tr>\n",
       "  </thead>\n",
       "  <tbody>\n",
       "    <tr>\n",
       "      <th>0</th>\n",
       "      <td>9</td>\n",
       "      <td>0</td>\n",
       "      <td>0</td>\n",
       "      <td>0</td>\n",
       "      <td>0</td>\n",
       "      <td>0</td>\n",
       "      <td>0</td>\n",
       "      <td>0</td>\n",
       "      <td>0</td>\n",
       "      <td>0</td>\n",
       "      <td>...</td>\n",
       "      <td>0</td>\n",
       "      <td>7</td>\n",
       "      <td>0</td>\n",
       "      <td>50</td>\n",
       "      <td>205</td>\n",
       "      <td>196</td>\n",
       "      <td>213</td>\n",
       "      <td>165</td>\n",
       "      <td>0</td>\n",
       "      <td>0</td>\n",
       "    </tr>\n",
       "    <tr>\n",
       "      <th>1</th>\n",
       "      <td>7</td>\n",
       "      <td>0</td>\n",
       "      <td>0</td>\n",
       "      <td>0</td>\n",
       "      <td>0</td>\n",
       "      <td>0</td>\n",
       "      <td>0</td>\n",
       "      <td>0</td>\n",
       "      <td>0</td>\n",
       "      <td>0</td>\n",
       "      <td>...</td>\n",
       "      <td>0</td>\n",
       "      <td>0</td>\n",
       "      <td>0</td>\n",
       "      <td>0</td>\n",
       "      <td>0</td>\n",
       "      <td>0</td>\n",
       "      <td>0</td>\n",
       "      <td>0</td>\n",
       "      <td>0</td>\n",
       "      <td>0</td>\n",
       "    </tr>\n",
       "    <tr>\n",
       "      <th>2</th>\n",
       "      <td>0</td>\n",
       "      <td>0</td>\n",
       "      <td>0</td>\n",
       "      <td>0</td>\n",
       "      <td>0</td>\n",
       "      <td>0</td>\n",
       "      <td>1</td>\n",
       "      <td>0</td>\n",
       "      <td>0</td>\n",
       "      <td>0</td>\n",
       "      <td>...</td>\n",
       "      <td>142</td>\n",
       "      <td>142</td>\n",
       "      <td>142</td>\n",
       "      <td>21</td>\n",
       "      <td>0</td>\n",
       "      <td>3</td>\n",
       "      <td>0</td>\n",
       "      <td>0</td>\n",
       "      <td>0</td>\n",
       "      <td>0</td>\n",
       "    </tr>\n",
       "    <tr>\n",
       "      <th>3</th>\n",
       "      <td>8</td>\n",
       "      <td>0</td>\n",
       "      <td>0</td>\n",
       "      <td>0</td>\n",
       "      <td>0</td>\n",
       "      <td>0</td>\n",
       "      <td>0</td>\n",
       "      <td>0</td>\n",
       "      <td>0</td>\n",
       "      <td>0</td>\n",
       "      <td>...</td>\n",
       "      <td>0</td>\n",
       "      <td>0</td>\n",
       "      <td>0</td>\n",
       "      <td>0</td>\n",
       "      <td>0</td>\n",
       "      <td>0</td>\n",
       "      <td>0</td>\n",
       "      <td>0</td>\n",
       "      <td>0</td>\n",
       "      <td>0</td>\n",
       "    </tr>\n",
       "    <tr>\n",
       "      <th>4</th>\n",
       "      <td>8</td>\n",
       "      <td>0</td>\n",
       "      <td>0</td>\n",
       "      <td>0</td>\n",
       "      <td>0</td>\n",
       "      <td>0</td>\n",
       "      <td>0</td>\n",
       "      <td>0</td>\n",
       "      <td>0</td>\n",
       "      <td>0</td>\n",
       "      <td>...</td>\n",
       "      <td>213</td>\n",
       "      <td>203</td>\n",
       "      <td>174</td>\n",
       "      <td>151</td>\n",
       "      <td>188</td>\n",
       "      <td>10</td>\n",
       "      <td>0</td>\n",
       "      <td>0</td>\n",
       "      <td>0</td>\n",
       "      <td>0</td>\n",
       "    </tr>\n",
       "  </tbody>\n",
       "</table>\n",
       "<p>5 rows × 785 columns</p>\n",
       "</div>"
      ],
      "text/plain": [
       "   label  pixel1  pixel2  pixel3  pixel4  pixel5  pixel6  pixel7  pixel8  \\\n",
       "0      9       0       0       0       0       0       0       0       0   \n",
       "1      7       0       0       0       0       0       0       0       0   \n",
       "2      0       0       0       0       0       0       1       0       0   \n",
       "3      8       0       0       0       0       0       0       0       0   \n",
       "4      8       0       0       0       0       0       0       0       0   \n",
       "\n",
       "   pixel9  ...  pixel775  pixel776  pixel777  pixel778  pixel779  pixel780  \\\n",
       "0       0  ...         0         7         0        50       205       196   \n",
       "1       0  ...         0         0         0         0         0         0   \n",
       "2       0  ...       142       142       142        21         0         3   \n",
       "3       0  ...         0         0         0         0         0         0   \n",
       "4       0  ...       213       203       174       151       188        10   \n",
       "\n",
       "   pixel781  pixel782  pixel783  pixel784  \n",
       "0       213       165         0         0  \n",
       "1         0         0         0         0  \n",
       "2         0         0         0         0  \n",
       "3         0         0         0         0  \n",
       "4         0         0         0         0  \n",
       "\n",
       "[5 rows x 785 columns]"
      ]
     },
     "execution_count": 91,
     "metadata": {},
     "output_type": "execute_result"
    }
   ],
   "source": [
    "df = pd.read_csv('fmnist_small.csv')\n",
    "df.head()"
   ]
  },
  {
   "cell_type": "code",
   "execution_count": 92,
   "id": "d7efdb56-feb4-47f0-98cc-fecf2fa731b5",
   "metadata": {},
   "outputs": [
    {
     "data": {
      "text/plain": [
       "(6000, 785)"
      ]
     },
     "execution_count": 92,
     "metadata": {},
     "output_type": "execute_result"
    }
   ],
   "source": [
    "df.shape"
   ]
  },
  {
   "cell_type": "code",
   "execution_count": 93,
   "id": "b880633f-c9ee-4fb4-84d5-7a148c426637",
   "metadata": {},
   "outputs": [
    {
     "data": {
      "image/png": "[encoded data removed]",
      "text/plain": [
       "<Figure size 1000x2000 with 16 Axes>"
      ]
     },
     "metadata": {},
     "output_type": "display_data"
    }
   ],
   "source": [
    "# create a 4 by 4 grid of images\n",
    "fig, axes = plt.subplots(4, 4, figsize=(10,20))\n",
    "fig.suptitle('First 16 Images', fontsize=16)\n",
    "# now plot the first 16 images from the dataset\n",
    "for i, ax in enumerate(axes.flat):\n",
    "    img = df.iloc[i, 1:].values.reshape(28, 28)    # Reshape to 28 by 28 \n",
    "    ax.imshow(img)    # display in  grayscale\n",
    "    ax.axis('off')    # remove axis from the clenner book \n",
    "    ax.set_title(f'Label: {df.iloc[i,0]}')    # show the label\n",
    "\n",
    "plt.tight_layout(rect=[0,0,1,0.96])    # adjuct layout to fit the title\n",
    "plt.show()"
   ]
  },
  {
   "cell_type": "code",
   "execution_count": 94,
   "id": "ecda05a3-3c62-4347-b4b0-59822118b376",
   "metadata": {},
   "outputs": [],
   "source": [
    "# train test split\n",
    "X = df.iloc[:, 1:].values\n",
    "y = df.iloc[:, 0].values"
   ]
  },
  {
   "cell_type": "code",
   "execution_count": 95,
   "id": "09a9cdfc-e745-44f9-888f-c57053a3f4ad",
   "metadata": {},
   "outputs": [],
   "source": [
    "X_train, X_test, y_train, y_test = train_test_split(X, y, test_size=0.2, random_state=42)"
   ]
  },
  {
   "cell_type": "code",
   "execution_count": 96,
   "id": "3ecb4db9-ab95-4066-86d6-81c54b7b261a",
   "metadata": {},
   "outputs": [],
   "source": [
    "# Normalize only features (not labels)\n",
    "X_train = X_train / 255.0\n",
    "X_test = X_test / 255.0\n",
    "\n",
    "# Ensure labels remain integers (do not scale)\n",
    "y_train = y_train.astype(int)\n",
    "y_test = y_test.astype(int)"
   ]
  },
  {
   "cell_type": "code",
   "execution_count": null,
   "id": "50850a75-db80-498f-8465-f50fda490ee6",
   "metadata": {},
   "outputs": [],
   "source": [
    "# creata a CustomDataSet class \n",
    "class CustomDataSet(Dataset):\n",
    "    def __init__(self, features, labels):\n",
    "        self.features = torch.tensor(features, dtype = torch.float32)\n",
    "        self.labels = torch.tensor(labels, dtype=torch.long)\n",
    "\n",
    "    def __len__(self):\n",
    "        return len(self.features)\n",
    "\n",
    "    def __getitem__(self, index):\n",
    "        return self.features[index], self.labels[index]"
   ]
  },
  {
   "cell_type": "code",
   "execution_count": 98,
   "id": "964e0902-3f62-4045-ae7c-2f28edcdd560",
   "metadata": {},
   "outputs": [],
   "source": [
    "# create an object to Train and test the dataset\n",
    "train_dataset = CustomDataSet(X_train, y_train)\n",
    "test_dataset = CustomDataSet(X_test, y_test)\n",
    "\n"
   ]
  },
  {
   "cell_type": "code",
   "execution_count": null,
   "id": "d00f93e2-b2ff-4cc8-bb17-c734bf1e12f8",
   "metadata": {},
   "outputs": [],
   "source": [
    "# create an object of Train and Test dataloader\n",
    "train_dataloader = DataLoader(train_dataset, batch_size=32, shuffle=True)\n",
    "test_dataloader = DataLoader(test_dataset, batch_size=32, shuffle=True)"
   ]
  },
  {
   "cell_type": "code",
   "execution_count": 99,
   "id": "f9bfc3cd-316a-46d5-acae-c2d12e4df3ec",
   "metadata": {},
   "outputs": [],
   "source": [
    "# Define a Class\n",
    "class MyNN(nn.Module):\n",
    "    def __init__(self, input_dim, output_dim, num_hidden_layers, neuron_per_layer):\n",
    "        super().__init__()\n",
    "\n",
    "        layers = []\n",
    "        for i in range(num_hidden_layers):\n",
    "            layers.append(nn.Linear(input_dim, neuron_per_layer))   # \n",
    "            layers.append(nn.BatchNorm1d(neuron_per_layer))  # for Optimization using BatchNorm1d\n",
    "            layers.append(nn.ReLU())    # Activation function using ReLU\n",
    "            layers.append(nn.Dropout(0.3))  # for optimization using Dropout \n",
    "            input_dim = neuron_per_layer  # Update input for the next layer\n",
    "\n",
    "        layers.append(nn.Linear(neuron_per_layer, output_dim))  # Output layer\n",
    "\n",
    "        self.model = nn.Sequential(*layers)  # Register layers in nn.Sequential\n",
    "\n",
    "    def forward(self, x):\n",
    "        return self.model(x)  # Forward pass\n"
   ]
  },
  {
   "cell_type": "markdown",
   "id": "4b714148-a6a8-4ead-a49e-43da3e7375fa",
   "metadata": {},
   "source": [
    "<h2 style=\"color:#33A1FF; font-size:28px;\">Hyperparameter Tuning:</h2>\n",
    "<h3 style=\"color:#FF5733; font-size:20px;\">1️⃣ Number of Hidden Layers</h3>\n",
    "<h3 style=\"color:#FF5733; font-size:20px;\">2️⃣ Neurons Per Layer</h3>\n",
    "<h3 style=\"color:#FF5733; font-size:20px;\">3️⃣ Epochs</h3>\n",
    "<h3 style=\"color:#FF5733; font-size:20px;\">4️⃣ Learning Rate</h3>\n",
    "<h3 style=\"color:#FF5733; font-size:20px;\">5️⃣ Dropout Rate</h3>\n",
    "<h3 style=\"color:#FF5733; font-size:20px;\">6️⃣ Batch Size</h3>\n",
    "<h3 style=\"color:#FF5733; font-size:20px;\">7️⃣ Optimizer Name</h3>\n",
    "<h3 style=\"color:#FF5733; font-size:20px;\">8️⃣ Weight Decay</h3>\n"
   ]
  },
  {
   "cell_type": "code",
   "execution_count": 104,
   "id": "8667e116-2456-48d0-8f14-463c4c005002",
   "metadata": {},
   "outputs": [],
   "source": [
    "# objective function\n",
    "def objective(trail):\n",
    "    # Next hyperparameter values from the search space\n",
    "    num_hidden_layers = trail.suggest_int('num_hidden_layers', 1, 5)\n",
    "    neuron_per_layer = trail.suggest_int('neuron_per_layer', 8, 128, step=8)\n",
    "    epochs = trail.suggest_int('epochs', 10, 50, step=10 )\n",
    "    learning_rate = trail.suggest_float('learning_rate', 1e-5, 1e-1, log=True)\n",
    "    dropout_rate = trail.suggest_float('dropout_rate', 0.1,0.5, step=0.1) \n",
    "    batch_size = trail.suggest_categorical('batch_size', [16, 32, 64, 128])\n",
    "    optimizer_name = trail.suggest_categorical('optimizer_name', ['Adam', 'SGD', 'RMSprop'])\n",
    "    weight_decay = trail.suggest_float('weight_dacy',1e-5, 1e-3, log=True)\n",
    "    \n",
    "    \n",
    "    # create an object of Train and Test dataloader\n",
    "    train_dataloader = DataLoader(train_dataset, batch_size=32, shuffle=True)\n",
    "    test_dataloader = DataLoader(test_dataset, batch_size=32, shuffle=True)\n",
    "    \n",
    "    # model initialize \n",
    "    input_dim = 784\n",
    "    output_dim = 10\n",
    "\n",
    "    model = MyNN(input_dim, output_dim, num_hidden_layers, neuron_per_layer)\n",
    "    \n",
    "    # parameters initialize\n",
    "    learning_rate = 0.01\n",
    "    epochs = 25\n",
    "    \n",
    "    #optimizer selection \n",
    "    loss_fn = nn.CrossEntropyLoss()\n",
    "    optimizer = optim.SGD(model.parameters(), lr = 0.1, weight_decay = weight_decay)\n",
    "\n",
    "    if optimizer_name == 'Adam':\n",
    "        optim.Adam(model.parameters(), lr = learning_rate, weight_decay = weight_decay)\n",
    "    elif optimizer_name == 'SGD':\n",
    "        optim.SGD(model.parameters(), lr = learning_rate, weight_decay = weight_decay)\n",
    "    else:\n",
    "        optim.RMSprop(model.parameters(), lr = learning_rate, weight_decay = weight_decay)\n",
    "    \n",
    "    \n",
    "    # training loop \n",
    "    for epoch in range(epochs):\n",
    "    \n",
    "        total_epoch_loss = 0\n",
    "        for batch_features, batch_labels in train_dataloader:\n",
    "    \n",
    "            # forward pass \n",
    "            y_pred = model(batch_features)\n",
    "    \n",
    "            # loss calculation \n",
    "            Loss = loss_fn(y_pred, batch_labels)\n",
    "    \n",
    "            # backward pass \n",
    "            optimizer.zero_grad()\n",
    "      \n",
    "            Loss.backward()\n",
    "    \n",
    "            optimizer.step()\n",
    "\n",
    "    # Evaluation\n",
    "\n",
    "    model.eval() \n",
    "\n",
    "    # set to eval model  \n",
    "    model.eval()\n",
    "    \n",
    "    len(test_dataloader)\n",
    "    \n",
    "    # Evaluation\n",
    "    total = 0 \n",
    "    correct = 0 \n",
    "    \n",
    "    with torch.no_grad(): \n",
    "        for batch_features, batch_labels in test_dataloader: \n",
    "            output = model(batch_features)\n",
    "            \n",
    "            # Extract class predictions (indices)\n",
    "            _, predicted = torch.max(output, 1)  # Correct way\n",
    "            \n",
    "            total += batch_labels.shape[0]\n",
    "            correct += (predicted == batch_labels).sum().item()\n",
    "        \n",
    "         # Compute accuracy\n",
    "        accuracy = correct / total  \n",
    "    \n",
    "    return accuracy "
   ]
  },
  {
   "cell_type": "code",
   "execution_count": 76,
   "id": "63c6b8e8-1256-4dc4-bc22-1d7eea541670",
   "metadata": {},
   "outputs": [
    {
     "name": "stdout",
     "output_type": "stream",
     "text": [
      "Requirement already satisfied: optuna in c:\\users\\computer zone\\anaconda3\\envs\\pt\\lib\\site-packages (4.2.1)\n",
      "Requirement already satisfied: alembic>=1.5.0 in c:\\users\\computer zone\\anaconda3\\envs\\pt\\lib\\site-packages (from optuna) (1.15.1)\n",
      "Requirement already satisfied: colorlog in c:\\users\\computer zone\\anaconda3\\envs\\pt\\lib\\site-packages (from optuna) (6.9.0)\n",
      "Requirement already satisfied: numpy in c:\\users\\computer zone\\anaconda3\\envs\\pt\\lib\\site-packages (from optuna) (2.2.3)\n",
      "Requirement already satisfied: packaging>=20.0 in c:\\users\\computer zone\\anaconda3\\envs\\pt\\lib\\site-packages (from optuna) (24.2)\n",
      "Requirement already satisfied: sqlalchemy>=1.4.2 in c:\\users\\computer zone\\anaconda3\\envs\\pt\\lib\\site-packages (from optuna) (2.0.38)\n",
      "Requirement already satisfied: tqdm in c:\\users\\computer zone\\anaconda3\\envs\\pt\\lib\\site-packages (from optuna) (4.67.1)\n",
      "Requirement already satisfied: PyYAML in c:\\users\\computer zone\\anaconda3\\envs\\pt\\lib\\site-packages (from optuna) (6.0.2)\n",
      "Requirement already satisfied: Mako in c:\\users\\computer zone\\anaconda3\\envs\\pt\\lib\\site-packages (from alembic>=1.5.0->optuna) (1.3.9)\n",
      "Requirement already satisfied: typing-extensions>=4.12 in c:\\users\\computer zone\\anaconda3\\envs\\pt\\lib\\site-packages (from alembic>=1.5.0->optuna) (4.12.2)\n",
      "Requirement already satisfied: greenlet!=0.4.17 in c:\\users\\computer zone\\anaconda3\\envs\\pt\\lib\\site-packages (from sqlalchemy>=1.4.2->optuna) (3.1.1)\n",
      "Requirement already satisfied: colorama in c:\\users\\computer zone\\anaconda3\\envs\\pt\\lib\\site-packages (from colorlog->optuna) (0.4.6)\n",
      "Requirement already satisfied: MarkupSafe>=0.9.2 in c:\\users\\computer zone\\anaconda3\\envs\\pt\\lib\\site-packages (from Mako->alembic>=1.5.0->optuna) (3.0.2)\n"
     ]
    }
   ],
   "source": [
    "# install optuna\n",
    "!pip install optuna"
   ]
  },
  {
   "cell_type": "code",
   "execution_count": 105,
   "id": "6c96816a-6529-4dc9-a620-0b433f2d63c5",
   "metadata": {},
   "outputs": [],
   "source": [
    "import optuna"
   ]
  },
  {
   "cell_type": "code",
   "execution_count": 106,
   "id": "6878fbc9-61e9-4b60-ae51-f6e6b353adab",
   "metadata": {},
   "outputs": [
    {
     "name": "stderr",
     "output_type": "stream",
     "text": [
      "[I 2025-03-08 08:00:28,622] A new study created in memory with name: no-name-65e57db5-dd7f-45c7-8614-2dcbaa2a7af5\n"
     ]
    }
   ],
   "source": [
    "study = optuna.create_study(direction='maximize')"
   ]
  },
  {
   "cell_type": "code",
   "execution_count": 107,
   "id": "87b40de8-99b8-400c-8abb-2d951721dcd8",
   "metadata": {},
   "outputs": [
    {
     "name": "stderr",
     "output_type": "stream",
     "text": [
      "[I 2025-03-08 08:00:57,984] Trial 0 finished with value: 0.8333333333333334 and parameters: {'num_hidden_layers': 3, 'neuron_per_layer': 128, 'epochs': 50, 'learning_rate': 3.6389881639466e-05, 'dropout_rate': 0.1, 'batch_size': 16, 'optimizer_name': 'RMSprop', 'weight_dacy': 1.86399252302208e-05}. Best is trial 0 with value: 0.8333333333333334.\n",
      "[I 2025-03-08 08:01:14,659] Trial 1 finished with value: 0.8233333333333334 and parameters: {'num_hidden_layers': 1, 'neuron_per_layer': 80, 'epochs': 30, 'learning_rate': 8.772220866777484e-05, 'dropout_rate': 0.2, 'batch_size': 32, 'optimizer_name': 'SGD', 'weight_dacy': 1.0608910931855487e-05}. Best is trial 0 with value: 0.8333333333333334.\n",
      "[I 2025-03-08 08:01:35,721] Trial 2 finished with value: 0.8458333333333333 and parameters: {'num_hidden_layers': 2, 'neuron_per_layer': 120, 'epochs': 50, 'learning_rate': 1.5978400045696685e-05, 'dropout_rate': 0.4, 'batch_size': 128, 'optimizer_name': 'SGD', 'weight_dacy': 0.00011456174177187697}. Best is trial 2 with value: 0.8458333333333333.\n",
      "[I 2025-03-08 08:01:52,123] Trial 3 finished with value: 0.8141666666666667 and parameters: {'num_hidden_layers': 1, 'neuron_per_layer': 120, 'epochs': 40, 'learning_rate': 0.000431071959457139, 'dropout_rate': 0.30000000000000004, 'batch_size': 16, 'optimizer_name': 'SGD', 'weight_dacy': 4.165684004795711e-05}. Best is trial 2 with value: 0.8458333333333333.\n",
      "[I 2025-03-08 08:02:15,206] Trial 4 finished with value: 0.8308333333333333 and parameters: {'num_hidden_layers': 3, 'neuron_per_layer': 48, 'epochs': 30, 'learning_rate': 0.0003027494930946836, 'dropout_rate': 0.1, 'batch_size': 16, 'optimizer_name': 'RMSprop', 'weight_dacy': 3.7187157236239255e-05}. Best is trial 2 with value: 0.8458333333333333.\n"
     ]
    }
   ],
   "source": [
    "study.optimize(objective, n_trials=5)"
   ]
  },
  {
   "cell_type": "code",
   "execution_count": 108,
   "id": "e2975412-6e3f-499a-bbb4-2fbe816a6cd2",
   "metadata": {},
   "outputs": [
    {
     "data": {
      "text/plain": [
       "0.8458333333333333"
      ]
     },
     "execution_count": 108,
     "metadata": {},
     "output_type": "execute_result"
    }
   ],
   "source": [
    "study.best_value"
   ]
  },
  {
   "cell_type": "code",
   "execution_count": 109,
   "id": "8a55a313-a3f3-4a5d-949a-43ff9c56d309",
   "metadata": {},
   "outputs": [
    {
     "data": {
      "text/plain": [
       "{'num_hidden_layers': 2,\n",
       " 'neuron_per_layer': 120,\n",
       " 'epochs': 50,\n",
       " 'learning_rate': 1.5978400045696685e-05,\n",
       " 'dropout_rate': 0.4,\n",
       " 'batch_size': 128,\n",
       " 'optimizer_name': 'SGD',\n",
       " 'weight_dacy': 0.00011456174177187697}"
      ]
     },
     "execution_count": 109,
     "metadata": {},
     "output_type": "execute_result"
    }
   ],
   "source": [
    "study.best_params"
   ]
  },
  {
   "cell_type": "code",
   "execution_count": null,
   "id": "69ea5cfa-4ac8-4121-8645-51c5fb9c6c7a",
   "metadata": {},
   "outputs": [],
   "source": []
  },
  {
   "cell_type": "code",
   "execution_count": null,
   "id": "2ce7c2d9-590a-418a-8517-228416b4f9c3",
   "metadata": {},
   "outputs": [],
   "source": []
  }
 ],
 "metadata": {
  "kernelspec": {
   "display_name": "Python 3 (ipykernel)",
   "language": "python",
   "name": "python3"
  },
  "language_info": {
   "codemirror_mode": {
    "name": "ipython",
    "version": 3
   },
   "file_extension": ".py",
   "mimetype": "text/x-python",
   "name": "python",
   "nbconvert_exporter": "python",
   "pygments_lexer": "ipython3",
   "version": "3.10.16"
  }
 },
 "nbformat": 4,
 "nbformat_minor": 5
}
