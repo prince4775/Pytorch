{
 "cells": [
  {
   "cell_type": "markdown",
   "id": "800a0399-bbe8-4f46-8bf0-b89805c3c4db",
   "metadata": {},
   "source": [
    "<h1 style=\"color:#ff5733; text-align:center; font-size:45px;\">🚀 Hello! I'm <b style=\"color:#33A1FF;\">Yahya Ahmad</b> 👋</h1>\n",
    "\n",
    "<p style=\"font-size:22px; text-align:center; color:#444;\">\n",
    "I'm a beginner passionate about <b style=\"color:#FF914D;\">technology</b>, <b style=\"color:#FF914D;\">machine learning</b>, and <b style=\"color:#FF914D;\">Python programming</b>. \n",
    "I'm excited to learn and grow in the world of <b style=\"color:#33A1FF;\">data science</b> and <b style=\"color:#33A1FF;\">AI</b>. 🚀\n",
    "</p>\n",
    "\n",
    "<hr style=\"border:2px solid #ff5733; width:80%;\">\n",
    "\n",
    "<h2 style=\"color:#33A1FF; font-size:30px;\">🎯 My Interests:</h2>\n",
    "\n",
    "<ul style=\"font-size:22px; color:#444;\">\n",
    "    <li><b style=\"color:#FF914D;\">Programming</b>: Python </li>\n",
    "    <li><b style=\"color:#FF914D;\">Machine Learning</b>: Exploring PyTorch and TensorFlow</li>\n",
    "    <li><b style=\"color:#FF914D;\">Deep Learning AI</b>: Neural Networks & Computer Vision</li>\n",
    "</ul>\n",
    "\n",
    "<hr style=\"border:2px solid #ff5733; width:80%;\">\n",
    "\n",
    "<h2 style=\"color:#33A1FF; font-size:30px;\">📬 Let's Connect!</h2>\n",
    "\n",
    "<ul style=\"font-size:22px; color:#444;\">\n",
    "    <li>📧 <b>Email</b>: <a href=\"mailto:Ya0280780@gmail.com\" style=\"color:#FF914D;\">Ya0280780@gmail.com</a></li>\n",
    "    <li>🔗 <b>LinkedIn</b>: <a href=\"https://www.linkedin.com/in/yahya-ahmad-8538312b1/\" style=\"color:#FF914D;\">Yahya Ahmad on LinkedIn</a></li>\n",
    "    <li>💻 <b>GitHub</b>: <a href=\"https://github.com/Yahyaahmad09/Courses\" style=\"color:#FF914D;\">My GitHub Repository</a></li>\n",
    "</ul>\n",
    "\n",
    "<hr style=\"border:2px solid #ff5733; width:80%;\">\n"
   ]
  },
  {
   "cell_type": "markdown",
   "id": "4fb210fb-a4d3-4e9a-87f6-9245a5218858",
   "metadata": {},
   "source": [
    "<h1 style=\"color:#ff5733; text-align:center; font-size:35px;\">🔄 AutoGrad in PyTorch</h1>\n",
    "\n",
    "<hr style=\"border:2px solid #ff5733;\">\n",
    "\n",
    "<p style=\"font-size:18px;\">\n",
    "PyTorch's <b style=\"color:#33A1FF;\">Autograd</b> (Automatic Differentiation) is a core feature that enables dynamic computation of gradients. It allows for automatic differentiation of tensors with respect to other tensors, which is crucial for deep learning models and optimization tasks.\n",
    "</p>\n",
    "\n",
    "<h2 style=\"color:#33A1FF; font-size:25px;\">✅ Key Features of Autograd</h2>\n",
    "<ul style=\"font-size:18px;\">\n",
    "    <li><b style=\"color:#FF914D;\">Computational Graph:</b> Tracks operations on tensors dynamically.</li>\n",
    "    <li><b style=\"color:#FF914D;\">Gradient Calculation:</b> Computes gradients automatically using <code>backward()</code>.</li>\n",
    "    <li><b style=\"color:#FF914D;\">Optimized for Deep Learning:</b> Efficiently computes derivatives needed for training neural networks.</li>\n",
    "</ul>\n",
    "\n",
    "<h2 style=\"color:#33A1FF; font-size:25px;\">⚙️ How Autograd Works</h2>\n",
    "<p style=\"font-size:18px;\">\n",
    "Autograd creates a dynamic computational graph for each tensor operation, storing gradients in <code>tensor.grad</code>. The <code>requires_grad=True</code> flag enables gradient tracking, and calling <code>tensor.backward()</code> computes the derivatives.\n",
    "</p>\n",
    "\n",
    "<h2 style=\"color:#33A1FF; font-size:25px;\">📝 Example Usage</h2>\n",
    "\n",
    "```python\n",
    "import torch\n",
    "\n",
    "# Create tensors with gradient tracking\n",
    "x = torch.tensor(2.0, requires_grad=True)\n",
    "y = x ** 3  # y = x^3\n",
    "\n",
    "# Compute gradient\n",
    "y.backward()\n",
    "\n",
    "# Print the gradient dy/dx\n",
    "print(x.grad)  # Output: 12.0 (since dy/dx = 3x^2 = 3*(2^2) = 12)\n"
   ]
  },
  {
   "cell_type": "markdown",
   "id": "847add05-7d35-458e-8b55-8761741f95ac",
   "metadata": {},
   "source": [
    "<h2 style=\"color:#3498db; font-size:30px;\">🔑 Code to Import PyTorch and Other Libraries</h2>\n"
   ]
  },
  {
   "cell_type": "code",
   "execution_count": 69,
   "id": "07e34627-290c-490a-8bb8-5ff1171c5662",
   "metadata": {},
   "outputs": [],
   "source": [
    "import torch\n",
    "import math"
   ]
  },
  {
   "cell_type": "markdown",
   "id": "b54860bc-1593-4283-95d0-8676b93e5e6b",
   "metadata": {},
   "source": [
    "<h2 style=\"color:#3498db; font-size:30px;\">AutoGrad Implimentation</h2>"
   ]
  },
  {
   "cell_type": "code",
   "execution_count": 70,
   "id": "4f2f9e28-bdcc-49cc-8201-5bd54201c67e",
   "metadata": {},
   "outputs": [
    {
     "data": {
      "text/plain": [
       "tensor(3., requires_grad=True)"
      ]
     },
     "execution_count": 70,
     "metadata": {},
     "output_type": "execute_result"
    }
   ],
   "source": [
    "# create a tenser \n",
    "x = torch.tensor(3.0, requires_grad=True)\n",
    "x"
   ]
  },
  {
   "cell_type": "code",
   "execution_count": 71,
   "id": "be82f2fa-ee7b-41a6-bbfa-a2ea14eebb21",
   "metadata": {},
   "outputs": [
    {
     "data": {
      "text/plain": [
       "tensor(9., grad_fn=<PowBackward0>)"
      ]
     },
     "execution_count": 71,
     "metadata": {},
     "output_type": "execute_result"
    }
   ],
   "source": [
    "y = x**2\n",
    "y"
   ]
  },
  {
   "cell_type": "code",
   "execution_count": 72,
   "id": "ff066a3b-6d23-4051-8ccf-e14202bf6e6d",
   "metadata": {},
   "outputs": [],
   "source": [
    "# using Backword\n",
    "y.backward()"
   ]
  },
  {
   "cell_type": "code",
   "execution_count": 73,
   "id": "d6b8f5f4-7d7a-4327-ba64-937af0cd977c",
   "metadata": {},
   "outputs": [
    {
     "name": "stdout",
     "output_type": "stream",
     "text": [
      "tensor(6.)\n"
     ]
    }
   ],
   "source": [
    "# using Grad for Gradiant\n",
    "print(x.grad)"
   ]
  },
  {
   "cell_type": "code",
   "execution_count": 74,
   "id": "ec0c8040-3663-4b37-82fd-c4d190922fbc",
   "metadata": {},
   "outputs": [],
   "source": [
    "# Define a function\n",
    "def dz_dx(x):   # dz/dx in simple way\n",
    "    return 2 * x * math.cos(y)"
   ]
  },
  {
   "cell_type": "code",
   "execution_count": 75,
   "id": "6c4e704b-2891-4ae8-b74e-0b59a8c37f7c",
   "metadata": {},
   "outputs": [
    {
     "data": {
      "text/plain": [
       "-4.1911992046695135"
      ]
     },
     "execution_count": 75,
     "metadata": {},
     "output_type": "execute_result"
    }
   ],
   "source": [
    "dz_dx(2.3)"
   ]
  },
  {
   "cell_type": "code",
   "execution_count": 76,
   "id": "067b6534-a3b3-4b57-97c6-9f54b9090e7c",
   "metadata": {},
   "outputs": [
    {
     "data": {
      "text/plain": [
       "tensor(2.3000, requires_grad=True)"
      ]
     },
     "execution_count": 76,
     "metadata": {},
     "output_type": "execute_result"
    }
   ],
   "source": [
    "# using AutoGrad in pytorch \n",
    "x = torch.tensor(2.3, requires_grad=True)\n",
    "x"
   ]
  },
  {
   "cell_type": "code",
   "execution_count": 77,
   "id": "2f90a66e-6ce4-4dcf-8b32-1fc9fa92d1f5",
   "metadata": {},
   "outputs": [
    {
     "data": {
      "text/plain": [
       "tensor(5.2900, grad_fn=<PowBackward0>)"
      ]
     },
     "execution_count": 77,
     "metadata": {},
     "output_type": "execute_result"
    }
   ],
   "source": [
    "y = x**2\n",
    "y"
   ]
  },
  {
   "cell_type": "code",
   "execution_count": 78,
   "id": "58e79e9c-b1c5-4f51-9bc5-52c05733bdab",
   "metadata": {},
   "outputs": [
    {
     "data": {
      "text/plain": [
       "tensor(-0.8378, grad_fn=<SinBackward0>)"
      ]
     },
     "execution_count": 78,
     "metadata": {},
     "output_type": "execute_result"
    }
   ],
   "source": [
    "z = torch.sin(y)\n",
    "z"
   ]
  },
  {
   "cell_type": "code",
   "execution_count": 79,
   "id": "29e4615b-0645-4179-a7bf-7b7cfe818187",
   "metadata": {},
   "outputs": [],
   "source": [
    "# backword prop\n",
    "z.backward()   # using chain rule"
   ]
  },
  {
   "cell_type": "code",
   "execution_count": 80,
   "id": "19e5aa1c-60af-4137-a82b-519dbdd81c22",
   "metadata": {},
   "outputs": [
    {
     "data": {
      "text/plain": [
       "tensor(2.5117)"
      ]
     },
     "execution_count": 80,
     "metadata": {},
     "output_type": "execute_result"
    }
   ],
   "source": [
    "# using grad\n",
    "x.grad"
   ]
  },
  {
   "cell_type": "markdown",
   "id": "29dc8f65-1566-4963-8fb9-b818f3753c45",
   "metadata": {},
   "source": [
    "<h1 style=\"color:#ff5733; text-align:center; font-size:35px;\">Simple NN Example</h1>\n",
    "<h1 style=\"color:#ff5733; text-align:center; font-size:30px;\">Using Manual Method</h1>"
   ]
  },
  {
   "cell_type": "markdown",
   "id": "fdf33b0e-3c02-474b-8943-d5436d81dcad",
   "metadata": {},
   "source": [
    "<h2 style=\"color:#3498db; font-size:30px;\">Inputs</h2>\n"
   ]
  },
  {
   "cell_type": "code",
   "execution_count": 84,
   "id": "02c1b9c5-1696-4b97-b030-e4f64f2e88e1",
   "metadata": {},
   "outputs": [
    {
     "name": "stdout",
     "output_type": "stream",
     "text": [
      "X:  tensor(6.7000)\n",
      "Y:  tensor(0.)\n",
      "W:  tensor(1.)\n",
      "b:  tensor(0.)\n"
     ]
    }
   ],
   "source": [
    "# Example of simple NN\n",
    "# input \n",
    "x = torch.tensor(6.7)  # Input feature\n",
    "y = torch.tensor(0.0)  # True Lable (Binary)\n",
    "\n",
    "w = torch.tensor(1.0) # weight\n",
    "b = torch.tensor(0.0) # bias\n",
    "\n",
    "print('X: ', x)\n",
    "print('Y: ', y)\n",
    "print('W: ', w)\n",
    "print('b: ', b)"
   ]
  },
  {
   "cell_type": "markdown",
   "id": "d2e8a35f-bd24-457e-813e-d8023911dbdc",
   "metadata": {},
   "source": [
    "<h2 style=\"color:#3498db; font-size:30px;\">Function for Losses</h2>"
   ]
  },
  {
   "cell_type": "code",
   "execution_count": 85,
   "id": "ab94106c-8795-4346-9deb-96bea7b35b06",
   "metadata": {},
   "outputs": [],
   "source": [
    "# Binary cross Entropy loss for scalar \n",
    "def Binary_cross_entropy_loss(prediction, target):\n",
    "    epsilon = 1e-8 # for log(0)\n",
    "    prediction = torch.clamp(prediction, epsilon, 1 - epsilon)\n",
    "    return -(target * torch.log(prediction) + (1 - target) * torch.log(1 - prediction))"
   ]
  },
  {
   "cell_type": "markdown",
   "id": "9db13274-e5f5-4d0f-9c05-b134e3045691",
   "metadata": {},
   "source": [
    "<h2 style=\"color:#3498db; font-size:30px;\">Forward Pass</h2>"
   ]
  },
  {
   "cell_type": "code",
   "execution_count": 90,
   "id": "94764650-bbcf-4630-a5fd-33f8bb5c34fd",
   "metadata": {},
   "outputs": [
    {
     "name": "stdout",
     "output_type": "stream",
     "text": [
      "tensor(6.7012)\n"
     ]
    }
   ],
   "source": [
    "# forward Pass\n",
    "z = w * x + b  # linear Combination\n",
    "y_pred = torch.sigmoid(z)  # Apply Activation Function\n",
    "\n",
    "# compute Binary_cross_entropy_loss (Losses)\n",
    "loss = Binary_cross_entropy_loss(y_pred,y)\n",
    "print(loss)"
   ]
  },
  {
   "cell_type": "markdown",
   "id": "3109d94b-b8e1-4279-94a0-27d1f756480b",
   "metadata": {},
   "source": [
    "<h2 style=\"color:#3498db; font-size:30px;\">Backward Pass </h2>"
   ]
  },
  {
   "cell_type": "code",
   "execution_count": 96,
   "id": "99935b3f-4410-4f38-94f4-ff7e79fe40e5",
   "metadata": {},
   "outputs": [
    {
     "name": "stdout",
     "output_type": "stream",
     "text": [
      "Manual Gradient loss w.r.t W:  tensor(6.6918)\n",
      "Manual Gradient loss w.r.t b:  tensor(0.9988)\n"
     ]
    }
   ],
   "source": [
    "# Manul style Derivatives\n",
    "# 1:- dL/dy_pred: Loss w.r.t Prediction\n",
    "dL_dy_pred = (y_pred - y) /(y_pred*(1-y_pred))\n",
    "\n",
    "# 2:- dy_pred/dz: y_pred w.r.t z (Activation function)\n",
    "dy_pred_dz = y_pred * (1-y_pred)\n",
    "\n",
    "# 2:- dz/dw: Activation  w.r.t weight(w),  dz/db: Activation  w.r.t bias  \n",
    "dz_dw = x \n",
    "dz_db = 1\n",
    "\n",
    "dL_dw = dL_dy_pred * dy_pred_dz * dz_dw\n",
    "dL_db = dL_dy_pred * dy_pred_dz * dz_db\n",
    "\n",
    "# Print the Gradient loss\n",
    "print('Manual Gradient loss w.r.t W: ', dL_dw)\n",
    "print('Manual Gradient loss w.r.t b: ', dL_db)"
   ]
  },
  {
   "cell_type": "markdown",
   "id": "55572796-03ff-4da7-a3d8-9d0ad4ad1cd6",
   "metadata": {},
   "source": [
    "<h1 style=\"color:#ff5733; text-align:center; font-size:35px;\">Using AutoGrad</h1>\n"
   ]
  },
  {
   "cell_type": "markdown",
   "id": "321fd427-da26-40cd-a674-4fb0987bd339",
   "metadata": {},
   "source": [
    "<h2 style=\"color:#3498db; font-size:30px;\">Inputs</h2>\n"
   ]
  },
  {
   "cell_type": "code",
   "execution_count": 98,
   "id": "d4413ff3-e1e9-4890-90b7-9f99e648556d",
   "metadata": {},
   "outputs": [
    {
     "name": "stdout",
     "output_type": "stream",
     "text": [
      "tensor(6.7000)\n",
      "tensor(0.)\n"
     ]
    }
   ],
   "source": [
    "x = torch.tensor(6.7)  # input feature\n",
    "y = torch.tensor(0.0) # True labels\n",
    "print(x)\n",
    "print(y)"
   ]
  },
  {
   "cell_type": "code",
   "execution_count": 101,
   "id": "dad79200-9abb-4475-be98-7bc33765e684",
   "metadata": {},
   "outputs": [
    {
     "name": "stdout",
     "output_type": "stream",
     "text": [
      "tensor(1., requires_grad=True)\n",
      "tensor(0., requires_grad=True)\n"
     ]
    }
   ],
   "source": [
    "w = torch.tensor(1.0, requires_grad=True) # w as weight\n",
    "b = torch.tensor(0.0, requires_grad=True) # b as bais\n",
    "print(w)\n",
    "print(b)"
   ]
  },
  {
   "cell_type": "markdown",
   "id": "9a4f2514-0427-4040-b7c8-0bf84dafcb06",
   "metadata": {},
   "source": [
    "<h1 style=\"color:#ff5733; text-align:center; font-size:35px;\">Forward Pass</h1>\n"
   ]
  },
  {
   "cell_type": "markdown",
   "id": "a3ad313e-90d8-48d2-976d-7c0dc0f81248",
   "metadata": {},
   "source": [
    "<h2 style=\"color:#3498db; font-size:30px;\">Linear Combination</h2>\n"
   ]
  },
  {
   "cell_type": "code",
   "execution_count": 104,
   "id": "3cf2e2b3-7872-4bf8-8e8f-5f4822d7c81e",
   "metadata": {},
   "outputs": [
    {
     "data": {
      "text/plain": [
       "tensor(6.7000, grad_fn=<AddBackward0>)"
      ]
     },
     "execution_count": 104,
     "metadata": {},
     "output_type": "execute_result"
    }
   ],
   "source": [
    "z = w*x+b  # linear combination for z\n",
    "z"
   ]
  },
  {
   "cell_type": "markdown",
   "id": "5c4fc881-10fa-438f-afe0-86fa23abc4af",
   "metadata": {},
   "source": [
    "<h2 style=\"color:#3498db; font-size:30px;\">Activation Function</h2>\n"
   ]
  },
  {
   "cell_type": "code",
   "execution_count": 106,
   "id": "f5e0e3f0-1b58-451e-aac7-bb622adf6108",
   "metadata": {},
   "outputs": [
    {
     "data": {
      "text/plain": [
       "tensor(0.9988, grad_fn=<SigmoidBackward0>)"
      ]
     },
     "execution_count": 106,
     "metadata": {},
     "output_type": "execute_result"
    }
   ],
   "source": [
    "y_pred = torch.sigmoid(z) # Sigmoid function on z as Activation function\n",
    "y_pred"
   ]
  },
  {
   "cell_type": "markdown",
   "id": "90a6c125-5201-411d-9275-31155c8f6d4e",
   "metadata": {},
   "source": [
    "<h2 style=\"color:#3498db; font-size:30px;\">Loss Function</h2>\n"
   ]
  },
  {
   "cell_type": "code",
   "execution_count": 110,
   "id": "39b2b0c6-dcfa-43fe-bced-37c01e764db2",
   "metadata": {},
   "outputs": [],
   "source": [
    "# Binary cross Entropy loss for scalar \n",
    "def Binary_cross_entropy_loss(prediction, target):\n",
    "    epsilon = 1e-8 # for log(0)\n",
    "    prediction = torch.clamp(prediction, epsilon, 1 - epsilon)\n",
    "    return -(target * torch.log(prediction) + (1 - target) * torch.log(1 - prediction))"
   ]
  },
  {
   "cell_type": "markdown",
   "id": "eb0852d1-8621-4e57-8bc7-449fef09fa84",
   "metadata": {},
   "source": [
    "<h2 style=\"color:#3498db; font-size:30px;\">Losses</h2>\n"
   ]
  },
  {
   "cell_type": "code",
   "execution_count": 112,
   "id": "947c40cb-82bd-458f-9b51-73b8abb98137",
   "metadata": {},
   "outputs": [
    {
     "data": {
      "text/plain": [
       "tensor(6.7012, grad_fn=<NegBackward0>)"
      ]
     },
     "execution_count": 112,
     "metadata": {},
     "output_type": "execute_result"
    }
   ],
   "source": [
    "loss = Binary_cross_entropy_loss(y_pred, y) # Losses between prediction and target value\n",
    "loss "
   ]
  },
  {
   "cell_type": "markdown",
   "id": "394e0913-61e6-4b3c-8502-f3c1a7db9929",
   "metadata": {},
   "source": [
    "<h1 style=\"color:#ff5733; text-align:center; font-size:35px;\">Backward Pass</h1>"
   ]
  },
  {
   "cell_type": "code",
   "execution_count": 113,
   "id": "316ddaca-a639-448c-9191-fffd3b40e5ce",
   "metadata": {},
   "outputs": [],
   "source": [
    "# using backward \n",
    "loss.backward()  # compute Gradient"
   ]
  },
  {
   "cell_type": "code",
   "execution_count": 115,
   "id": "52107b40-fafd-405f-87f9-c77969be51a6",
   "metadata": {},
   "outputs": [
    {
     "name": "stdout",
     "output_type": "stream",
     "text": [
      "tensor(6.6918)\n",
      "tensor(0.9988)\n"
     ]
    }
   ],
   "source": [
    "print(w.grad)   # store in grad for w\n",
    "print(b.grad)   # store in grad for b"
   ]
  },
  {
   "cell_type": "markdown",
   "id": "3e64fe49-8545-4b88-ab55-a72530930413",
   "metadata": {},
   "source": [
    "<h1 style=\"color:#ff5733; text-align:center; font-size:35px;\">Auto Grad on Vector</h1>"
   ]
  },
  {
   "cell_type": "code",
   "execution_count": 135,
   "id": "d7956300-24d0-4d73-b05a-6e40c54fc0be",
   "metadata": {},
   "outputs": [
    {
     "data": {
      "text/plain": [
       "tensor([2.5000, 4.2000, 7.8000], requires_grad=True)"
      ]
     },
     "execution_count": 135,
     "metadata": {},
     "output_type": "execute_result"
    }
   ],
   "source": [
    "# input feature\n",
    "x = torch.tensor([2.5, 4.2, 7.8], requires_grad=True)\n",
    "x"
   ]
  },
  {
   "cell_type": "code",
   "execution_count": 136,
   "id": "36abe1f0-80e3-42b5-8848-80cb1c4823cc",
   "metadata": {},
   "outputs": [
    {
     "data": {
      "text/plain": [
       "tensor(28.2433, grad_fn=<MeanBackward0>)"
      ]
     },
     "execution_count": 136,
     "metadata": {},
     "output_type": "execute_result"
    }
   ],
   "source": [
    "# forward pass\n",
    "y = (x**2).mean()\n",
    "y"
   ]
  },
  {
   "cell_type": "code",
   "execution_count": 137,
   "id": "25261647-5ae2-4213-af73-f7a9e1894e27",
   "metadata": {},
   "outputs": [],
   "source": [
    "# Backward pass\n",
    "y.backward()"
   ]
  },
  {
   "cell_type": "code",
   "execution_count": 138,
   "id": "ae008d68-8bd4-46cd-abc6-840480f92b2f",
   "metadata": {},
   "outputs": [
    {
     "data": {
      "text/plain": [
       "tensor([1.6667, 2.8000, 5.2000])"
      ]
     },
     "execution_count": 138,
     "metadata": {},
     "output_type": "execute_result"
    }
   ],
   "source": [
    "# Gradient\n",
    "x.grad"
   ]
  },
  {
   "cell_type": "code",
   "execution_count": 140,
   "id": "6b3ec6ec-53fc-41db-8a31-cace04be6112",
   "metadata": {},
   "outputs": [
    {
     "data": {
      "text/plain": [
       "tensor([0., 0., 0.])"
      ]
     },
     "execution_count": 140,
     "metadata": {},
     "output_type": "execute_result"
    }
   ],
   "source": [
    "# clear Gradient\n",
    "x.grad.zero_() # use to clear the gradient after backward if we want to  keep the gradient value unchange \n",
    "               # (because after each run of passess the grad change)"
   ]
  },
  {
   "cell_type": "code",
   "execution_count": 142,
   "id": "4483d07c-07bf-4aa3-8ca7-ec446568d798",
   "metadata": {},
   "outputs": [
    {
     "data": {
      "text/plain": [
       "tensor(2., requires_grad=True)"
      ]
     },
     "execution_count": 142,
     "metadata": {},
     "output_type": "execute_result"
    }
   ],
   "source": [
    "# Disable Gradient Trackinga\n",
    "x = torch.tensor(2.0, requires_grad = True)\n",
    "x"
   ]
  },
  {
   "cell_type": "code",
   "execution_count": 144,
   "id": "706331e1-8368-46e2-9a1a-65cd0b3f3be4",
   "metadata": {},
   "outputs": [
    {
     "data": {
      "text/plain": [
       "tensor(8., grad_fn=<PowBackward0>)"
      ]
     },
     "execution_count": 144,
     "metadata": {},
     "output_type": "execute_result"
    }
   ],
   "source": [
    "y = x**3\n",
    "y"
   ]
  },
  {
   "cell_type": "code",
   "execution_count": 145,
   "id": "e82a1a08-5b46-467d-9b43-590ca99c4040",
   "metadata": {},
   "outputs": [],
   "source": [
    "y.backward()"
   ]
  },
  {
   "cell_type": "code",
   "execution_count": 146,
   "id": "a67d2ad1-fca5-427b-bda3-888c148a947a",
   "metadata": {},
   "outputs": [
    {
     "data": {
      "text/plain": [
       "tensor(12.)"
      ]
     },
     "execution_count": 146,
     "metadata": {},
     "output_type": "execute_result"
    }
   ],
   "source": [
    "x.grad"
   ]
  },
  {
   "cell_type": "code",
   "execution_count": 149,
   "id": "5ce5a25b-caea-4300-9f5d-c5d63d1c9d03",
   "metadata": {},
   "outputs": [
    {
     "data": {
      "text/plain": [
       "tensor(2.)"
      ]
     },
     "execution_count": 149,
     "metadata": {},
     "output_type": "execute_result"
    }
   ],
   "source": [
    "# using requires_gradient(False)\n",
    "x.requires_grad_(False)"
   ]
  },
  {
   "cell_type": "code",
   "execution_count": 150,
   "id": "1db748bf-9c56-455c-ab38-4f709c955a52",
   "metadata": {},
   "outputs": [
    {
     "data": {
      "text/plain": [
       "tensor(2.)"
      ]
     },
     "execution_count": 150,
     "metadata": {},
     "output_type": "execute_result"
    }
   ],
   "source": [
    "# using detach()\n",
    "x.detach()"
   ]
  },
  {
   "cell_type": "code",
   "execution_count": 151,
   "id": "5a6b469e-30aa-45e4-8358-74ef92eed91a",
   "metadata": {},
   "outputs": [
    {
     "data": {
      "text/plain": [
       "<function torch.context_decorator.<locals>.decorate_context>"
      ]
     },
     "execution_count": 151,
     "metadata": {},
     "output_type": "execute_result"
    }
   ],
   "source": [
    "# using torch.no_grad()\n",
    "torch.no_grad(x)"
   ]
  },
  {
   "cell_type": "code",
   "execution_count": null,
   "id": "d0cfbf5e-26df-405e-8545-7973807ef74f",
   "metadata": {},
   "outputs": [],
   "source": []
  }
 ],
 "metadata": {
  "kernelspec": {
   "display_name": "Python 3 (ipykernel)",
   "language": "python",
   "name": "python3"
  },
  "language_info": {
   "codemirror_mode": {
    "name": "ipython",
    "version": 3
   },
   "file_extension": ".py",
   "mimetype": "text/x-python",
   "name": "python",
   "nbconvert_exporter": "python",
   "pygments_lexer": "ipython3",
   "version": "3.10.16"
  }
 },
 "nbformat": 4,
 "nbformat_minor": 5
}
